{
 "cells": [
  {
   "cell_type": "code",
   "execution_count": null,
   "metadata": {
    "collapsed": false
   },
   "outputs": [],
   "source": [
    "print(\"hello Bruce......\")"
   ]
  },
  {
   "cell_type": "code",
   "execution_count": null,
   "metadata": {
    "collapsed": false
   },
   "outputs": [],
   "source": [
    "__author__ = 'pleb1'\n",
    "\n",
    "\n",
    "def main():\n",
    "    import csv\n",
    "    import statistics\n",
    "    import re\n",
    "    print(\"\\t{}\\t\\t{}\".format(\"DegreeC\", \"DegreeF\"))\n",
    "\n",
    "    my_mode = statistics.mode([1, 1, 2, 3, 3, 3, 3, 4])\n",
    "    print(\"my mode: \\t\", my_mode)\n",
    "\n",
    "    my_string1 = r\"GigabitEthernet1/0/13   Vlan401 Isaac Sterns Isaac Asimov  PetabitEthernet/1/222/34 Gigabit_dooh_dah\"\n",
    "    my_string2 = r\"Gigabit_dooh_dah vlan123 Isaac Sterns Isaac Asimov vlan345 vlan567 vlan1024 vlan999 GigabitEthernet1/0/13\"\n",
    "    parsed_vlan_flag = re.search(r'((Gigabit)[^ ]+?)\\s+?((Vlan)\\d+?)', my_string1)\n",
    "\n",
    "    if parsed_vlan_flag:\n",
    "        try:\n",
    "            print(\"parsed_vlan_flag\\t\\t:\", str(parsed_vlan_flag))  # should be 'true'\n",
    "            print(\"parsed_vlan_flag.group(0)\\t\\t:\", str(parsed_vlan_flag.group(0)))\n",
    "            print(\"parsed_vlan_flag.group(1)\\t\\t:\", str(parsed_vlan_flag.group(1)))\n",
    "            print(\"parsed_vlan_flag.group(2)\\t\\t:\", str(parsed_vlan_flag.group(2)))\n",
    "            print(\"parsed_vlan_flag.group(3)\\t\\t:\", str(parsed_vlan_flag.group(3)))\n",
    "            print(\"parsed_vlan_flag.group(4)\\t\\t:\", str(parsed_vlan_flag.group(4)))\n",
    "            print(\"parsed_vlan_flag.group(5)\\t\\t:\", str(parsed_vlan_flag.group(5)))\n",
    "        except IndexError:\n",
    "            print(\"spotted an IndexError\")\n",
    "\n",
    "    parsed_findall_list = re.findall(r'((Gigabit)[^ ]+?)\\s+?((Vlan)\\d+?)', my_string1)\n",
    "    print(str(parsed_findall_list))\n",
    "    #\n",
    "    parse_vlan = re.findall(r'((?:vlan)\\d+)', my_string2)\n",
    "    parse_Gigabit = re.findall(r'((Gigabit)[^ ]+)', my_string2)\n",
    "\n",
    "    print(\"parse_vlan \\t\\t:\", str(parse_vlan))\n",
    "    print(\"parse_Gigabit \\t\\t:\", str(parse_Gigabit))\n",
    "\n",
    "    return\n",
    "\n",
    "\n",
    "main()\n",
    "\n"
   ]
  }
 ],
 "metadata": {
  "kernelspec": {
   "display_name": "Python 3",
   "language": "python",
   "name": "python3"
  },
  "language_info": {
   "codemirror_mode": {
    "name": "ipython",
    "version": 3
   },
   "file_extension": ".py",
   "mimetype": "text/x-python",
   "name": "python",
   "nbconvert_exporter": "python",
   "pygments_lexer": "ipython3",
   "version": "3.5.1"
  }
 },
 "nbformat": 4,
 "nbformat_minor": 0
}
