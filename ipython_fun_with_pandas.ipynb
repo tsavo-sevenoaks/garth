{
 "cells": [
  {
   "cell_type": "markdown",
   "metadata": {},
   "source": [
    "# iPython 101 - using numpy, scipy, matplotlib, sqlite3 and Bokeh.\n",
    " it takes a long time to load - be patient!"
   ]
  },
  {
   "cell_type": "code",
   "execution_count": null,
   "metadata": {
    "collapsed": false
   },
   "outputs": [],
   "source": [
    "a = \"hello world - BRUCE\"\n",
    "print(a)\n",
    "import time\n",
    "\n",
    "#print(\"date and time when this Notebook was run on http://localhost:8888/notebooks/ipython_101_notebook-Copy1.ipynb\")\n",
    "print(\"Date & Time : \",time.strftime(\"%Y-%m-%d  %H:%M:%S\"))"
   ]
  },
  {
   "cell_type": "code",
   "execution_count": 63,
   "metadata": {
    "collapsed": true
   },
   "outputs": [],
   "source": [
    "import pandas as pd"
   ]
  },
  {
   "cell_type": "code",
   "execution_count": 64,
   "metadata": {
    "collapsed": true
   },
   "outputs": [],
   "source": [
    "ufo=pd.read_csv('http://bit.ly/uforeports')"
   ]
  },
  {
   "cell_type": "code",
   "execution_count": 65,
   "metadata": {
    "collapsed": false
   },
   "outputs": [
    {
     "data": {
      "text/html": [
       "<div>\n",
       "<table border=\"1\" class=\"dataframe\">\n",
       "  <thead>\n",
       "    <tr style=\"text-align: right;\">\n",
       "      <th></th>\n",
       "      <th>City</th>\n",
       "      <th>Colors Reported</th>\n",
       "      <th>Shape Reported</th>\n",
       "      <th>State</th>\n",
       "      <th>Time</th>\n",
       "    </tr>\n",
       "  </thead>\n",
       "  <tbody>\n",
       "    <tr>\n",
       "      <th>0</th>\n",
       "      <td>Ithaca</td>\n",
       "      <td>NaN</td>\n",
       "      <td>TRIANGLE</td>\n",
       "      <td>NY</td>\n",
       "      <td>6/1/1930 22:00</td>\n",
       "    </tr>\n",
       "    <tr>\n",
       "      <th>1</th>\n",
       "      <td>Willingboro</td>\n",
       "      <td>NaN</td>\n",
       "      <td>OTHER</td>\n",
       "      <td>NJ</td>\n",
       "      <td>6/30/1930 20:00</td>\n",
       "    </tr>\n",
       "    <tr>\n",
       "      <th>2</th>\n",
       "      <td>Holyoke</td>\n",
       "      <td>NaN</td>\n",
       "      <td>OVAL</td>\n",
       "      <td>CO</td>\n",
       "      <td>2/15/1931 14:00</td>\n",
       "    </tr>\n",
       "    <tr>\n",
       "      <th>3</th>\n",
       "      <td>Abilene</td>\n",
       "      <td>NaN</td>\n",
       "      <td>DISK</td>\n",
       "      <td>KS</td>\n",
       "      <td>6/1/1931 13:00</td>\n",
       "    </tr>\n",
       "    <tr>\n",
       "      <th>4</th>\n",
       "      <td>New York Worlds Fair</td>\n",
       "      <td>NaN</td>\n",
       "      <td>LIGHT</td>\n",
       "      <td>NY</td>\n",
       "      <td>4/18/1933 19:00</td>\n",
       "    </tr>\n",
       "  </tbody>\n",
       "</table>\n",
       "</div>"
      ],
      "text/plain": [
       "                   City Colors Reported Shape Reported State             Time\n",
       "0                Ithaca             NaN       TRIANGLE    NY   6/1/1930 22:00\n",
       "1           Willingboro             NaN          OTHER    NJ  6/30/1930 20:00\n",
       "2               Holyoke             NaN           OVAL    CO  2/15/1931 14:00\n",
       "3               Abilene             NaN           DISK    KS   6/1/1931 13:00\n",
       "4  New York Worlds Fair             NaN          LIGHT    NY  4/18/1933 19:00"
      ]
     },
     "execution_count": 65,
     "metadata": {},
     "output_type": "execute_result"
    }
   ],
   "source": [
    "ufo.head()"
   ]
  },
  {
   "cell_type": "code",
   "execution_count": 66,
   "metadata": {
    "collapsed": false
   },
   "outputs": [
    {
     "data": {
      "text/plain": [
       "(18241, 5)"
      ]
     },
     "execution_count": 66,
     "metadata": {},
     "output_type": "execute_result"
    }
   ],
   "source": [
    "ufo.shape"
   ]
  },
  {
   "cell_type": "code",
   "execution_count": 67,
   "metadata": {
    "collapsed": false
   },
   "outputs": [
    {
     "data": {
      "text/plain": [
       "RangeIndex(start=0, stop=18241, step=1)"
      ]
     },
     "execution_count": 67,
     "metadata": {},
     "output_type": "execute_result"
    }
   ],
   "source": [
    "ufo.index"
   ]
  },
  {
   "cell_type": "code",
   "execution_count": 68,
   "metadata": {
    "collapsed": false
   },
   "outputs": [
    {
     "data": {
      "text/plain": [
       "Index(['City', 'Colors Reported', 'Shape Reported', 'State', 'Time'], dtype='object')"
      ]
     },
     "execution_count": 68,
     "metadata": {},
     "output_type": "execute_result"
    }
   ],
   "source": [
    "ufo.columns"
   ]
  },
  {
   "cell_type": "code",
   "execution_count": 71,
   "metadata": {
    "collapsed": false
   },
   "outputs": [],
   "source": [
    "ufo['Location'] = ufo['City'] + \", \" + ufo['State']\n"
   ]
  },
  {
   "cell_type": "code",
   "execution_count": null,
   "metadata": {
    "collapsed": true
   },
   "outputs": [],
   "source": []
  },
  {
   "cell_type": "code",
   "execution_count": 72,
   "metadata": {
    "collapsed": false
   },
   "outputs": [
    {
     "data": {
      "text/html": [
       "<div>\n",
       "<table border=\"1\" class=\"dataframe\">\n",
       "  <thead>\n",
       "    <tr style=\"text-align: right;\">\n",
       "      <th></th>\n",
       "      <th>City</th>\n",
       "      <th>Colors Reported</th>\n",
       "      <th>Shape Reported</th>\n",
       "      <th>State</th>\n",
       "      <th>Time</th>\n",
       "      <th>Location</th>\n",
       "    </tr>\n",
       "  </thead>\n",
       "  <tbody>\n",
       "    <tr>\n",
       "      <th>0</th>\n",
       "      <td>Ithaca</td>\n",
       "      <td>NaN</td>\n",
       "      <td>TRIANGLE</td>\n",
       "      <td>NY</td>\n",
       "      <td>6/1/1930 22:00</td>\n",
       "      <td>Ithaca, NY</td>\n",
       "    </tr>\n",
       "    <tr>\n",
       "      <th>1</th>\n",
       "      <td>Willingboro</td>\n",
       "      <td>NaN</td>\n",
       "      <td>OTHER</td>\n",
       "      <td>NJ</td>\n",
       "      <td>6/30/1930 20:00</td>\n",
       "      <td>Willingboro, NJ</td>\n",
       "    </tr>\n",
       "    <tr>\n",
       "      <th>2</th>\n",
       "      <td>Holyoke</td>\n",
       "      <td>NaN</td>\n",
       "      <td>OVAL</td>\n",
       "      <td>CO</td>\n",
       "      <td>2/15/1931 14:00</td>\n",
       "      <td>Holyoke, CO</td>\n",
       "    </tr>\n",
       "    <tr>\n",
       "      <th>3</th>\n",
       "      <td>Abilene</td>\n",
       "      <td>NaN</td>\n",
       "      <td>DISK</td>\n",
       "      <td>KS</td>\n",
       "      <td>6/1/1931 13:00</td>\n",
       "      <td>Abilene, KS</td>\n",
       "    </tr>\n",
       "    <tr>\n",
       "      <th>4</th>\n",
       "      <td>New York Worlds Fair</td>\n",
       "      <td>NaN</td>\n",
       "      <td>LIGHT</td>\n",
       "      <td>NY</td>\n",
       "      <td>4/18/1933 19:00</td>\n",
       "      <td>New York Worlds Fair, NY</td>\n",
       "    </tr>\n",
       "  </tbody>\n",
       "</table>\n",
       "</div>"
      ],
      "text/plain": [
       "                   City Colors Reported Shape Reported State             Time  \\\n",
       "0                Ithaca             NaN       TRIANGLE    NY   6/1/1930 22:00   \n",
       "1           Willingboro             NaN          OTHER    NJ  6/30/1930 20:00   \n",
       "2               Holyoke             NaN           OVAL    CO  2/15/1931 14:00   \n",
       "3               Abilene             NaN           DISK    KS   6/1/1931 13:00   \n",
       "4  New York Worlds Fair             NaN          LIGHT    NY  4/18/1933 19:00   \n",
       "\n",
       "                   Location  \n",
       "0                Ithaca, NY  \n",
       "1           Willingboro, NJ  \n",
       "2               Holyoke, CO  \n",
       "3               Abilene, KS  \n",
       "4  New York Worlds Fair, NY  "
      ]
     },
     "execution_count": 72,
     "metadata": {},
     "output_type": "execute_result"
    }
   ],
   "source": [
    "ufo.head()"
   ]
  },
  {
   "cell_type": "code",
   "execution_count": 73,
   "metadata": {
    "collapsed": false
   },
   "outputs": [
    {
     "data": {
      "text/plain": [
       "pandas.core.series.Series"
      ]
     },
     "execution_count": 73,
     "metadata": {},
     "output_type": "execute_result"
    }
   ],
   "source": [
    "type(ufo.Location)"
   ]
  },
  {
   "cell_type": "code",
   "execution_count": 88,
   "metadata": {
    "collapsed": false
   },
   "outputs": [
    {
     "name": "stdout",
     "output_type": "stream",
     "text": [
      "Location\n",
      "              Ithaca, NY\n",
      "         Willingboro, NJ\n",
      "             Holyoke, CO\n",
      "             Abilene, KS\n",
      "New York Worlds Fair, NY\n",
      "         Valley City, ND\n",
      "         Crater Lake, CA\n",
      "                Alma, MI\n",
      "             Eklutna, AK\n",
      "             Hubbard, OR\n"
     ]
    }
   ],
   "source": [
    "#ufo.Location\n",
    "print( (ufo.head(10)).to_string(columns=['Location'],index=False)) #bugger, this is tricky"
   ]
  },
  {
   "cell_type": "code",
   "execution_count": null,
   "metadata": {
    "collapsed": false
   },
   "outputs": [],
   "source": []
  },
  {
   "cell_type": "code",
   "execution_count": 109,
   "metadata": {
    "collapsed": false
   },
   "outputs": [
    {
     "name": "stdout",
     "output_type": "stream",
     "text": [
      "BEGIN A100_initialise_dataframe\n",
      "\n",
      "type(AAPL) : \n",
      " <class 'pandas.core.frame.DataFrame'>\n",
      "\n",
      "\n",
      "AAPL.dtypes : \n",
      " Airport_ID                 int64\n",
      "Name                      object\n",
      "City                      object\n",
      "Country                   object\n",
      "IATA_FAA                  object\n",
      "ICAO                      object\n",
      "Latitude                 float64\n",
      "Longitude                float64\n",
      "Altitude                   int64\n",
      "Timezone                 float64\n",
      "DST                       object\n",
      "Tz database_time_zone     object\n",
      "dtype: object\n",
      "\n",
      "\n",
      "AAPL.describe() : \n",
      "         Airport_ID     Latitude    Longitude      Altitude     Timezone\n",
      "count  8107.000000  8107.000000  8107.000000   8107.000000  8107.000000\n",
      "mean   4766.361046    26.817720    -3.921969    933.449365     0.169236\n",
      "std    2943.205193    27.866953    85.900873   1624.740899     5.737326\n",
      "min       1.000000   -89.999997  -179.877000  -1266.000000   -12.000000\n",
      "25%    2091.500000     8.824928   -79.022498     38.000000    -5.000000\n",
      "50%    4257.000000    34.987800     5.292028    272.000000     1.000000\n",
      "75%    7508.500000    47.957599    49.785821   1020.000000     4.000000\n",
      "max    9541.000000    82.517778   179.951000  14472.000000    13.000000\n",
      "\n",
      "\n",
      "<class 'pandas.core.frame.DataFrame'>\n",
      "RangeIndex: 8107 entries, 0 to 8106\n",
      "Data columns (total 12 columns):\n",
      "Airport_ID               8107 non-null int64\n",
      "Name                     8107 non-null object\n",
      "City                     8107 non-null object\n",
      "Country                  8107 non-null object\n",
      "IATA_FAA                 5880 non-null object\n",
      "ICAO                     8043 non-null object\n",
      "Latitude                 8107 non-null float64\n",
      "Longitude                8107 non-null float64\n",
      "Altitude                 8107 non-null int64\n",
      "Timezone                 8107 non-null float64\n",
      "DST                      8107 non-null object\n",
      "Tz database_time_zone    8107 non-null object\n",
      "dtypes: float64(3), int64(2), object(7)\n",
      "memory usage: 760.1+ KB\n",
      "AAPL.info() : \n",
      " None\n",
      "\n",
      "\n",
      "AAPL.head() : \n",
      "    Airport_ID                        Name          City           Country  \\\n",
      "0           1                      Goroka        Goroka  Papua New Guinea   \n",
      "1           2                      Madang        Madang  Papua New Guinea   \n",
      "2           3                 Mount Hagen   Mount Hagen  Papua New Guinea   \n",
      "3           4                      Nadzab        Nadzab  Papua New Guinea   \n",
      "4           5  Port Moresby Jacksons Intl  Port Moresby  Papua New Guinea   \n",
      "\n",
      "  IATA_FAA  ICAO  Latitude   Longitude  Altitude  Timezone DST  \\\n",
      "0      GKA  AYGA -6.081689  145.391881      5282      10.0   U   \n",
      "1      MAG  AYMD -5.207083  145.788700        20      10.0   U   \n",
      "2      HGU  AYMH -5.826789  144.295861      5388      10.0   U   \n",
      "3      LAE  AYNZ -6.569828  146.726242       239      10.0   U   \n",
      "4      POM  AYPY -9.443383  147.220050       146      10.0   U   \n",
      "\n",
      "  Tz database_time_zone  \n",
      "0  Pacific/Port_Moresby  \n",
      "1  Pacific/Port_Moresby  \n",
      "2  Pacific/Port_Moresby  \n",
      "3  Pacific/Port_Moresby  \n",
      "4  Pacific/Port_Moresby  \n",
      "\n",
      "\n",
      "display.max_columns =  20\n",
      "END A100_initialise_dataframe\n",
      "\n",
      "BEGIN A400_make_dataframes\n",
      "\n",
      "\n",
      "\n",
      "                Airport_ID                           Name    City IATA_FAA  \\\n",
      "Country                                                                      \n",
      "United Kingdom         492                          Luton  London      LTN   \n",
      "United Kingdom         502                        Gatwick  London      LGW   \n",
      "United Kingdom         503                           City  London      LCY   \n",
      "United Kingdom         507                       Heathrow  London      LHR   \n",
      "United Kingdom         548                       Stansted  London      STN   \n",
      "United Kingdom        7393  London Euston Railway Station  London      NaN   \n",
      "United Kingdom        7639             Paddington Station  London      QQP   \n",
      "United Kingdom        7667    London Victoria Bus Station  London      NaN   \n",
      "United Kingdom        7696              London St Pancras  London      STP   \n",
      "United Kingdom        7722                London Heliport  London      NaN   \n",
      "United Kingdom        8024     St Pancras Railway Station  London      QQS   \n",
      "United Kingdom        8590                   All Airports  London      LON   \n",
      "United Kingdom        8732           London - Kings Cross  London      QQK   \n",
      "United Kingdom        8912                 Euston Station  London      NaN   \n",
      "United Kingdom        8978               Victoria Station  London      NaN   \n",
      "United Kingdom        9341         Waterloo International  London      NaN   \n",
      "United Kingdom        9356                 Euston Station  London      QQU   \n",
      "United Kingdom        9357         Waterloo International  London      QQW   \n",
      "\n",
      "                ICAO   Latitude  Longitude  Altitude  Timezone DST  \\\n",
      "Country                                                              \n",
      "United Kingdom  EGGW  51.874722  -0.368333       526       0.0   E   \n",
      "United Kingdom  EGKK  51.148056  -0.190278       202       0.0   E   \n",
      "United Kingdom  EGLC  51.505278   0.055278        19       0.0   E   \n",
      "United Kingdom  EGLL  51.477500  -0.461389        83       0.0   E   \n",
      "United Kingdom  EGSS  51.885000   0.235000       348       0.0   E   \n",
      "United Kingdom    \\N  51.528400  -0.133100         0       0.0   U   \n",
      "United Kingdom    \\N  51.515833  -0.176111         0       0.0   E   \n",
      "United Kingdom    \\N  51.494999  -0.144643         0       0.0   E   \n",
      "United Kingdom    \\N  51.530000  -0.125000         0       0.0   E   \n",
      "United Kingdom  EGLW  51.470000  -0.177833        18       0.0   E   \n",
      "United Kingdom    \\N  51.532519  -0.126300        80       0.0   E   \n",
      "United Kingdom    \\N  51.508056  -0.127778        66       0.0   E   \n",
      "United Kingdom    \\N  51.532600   0.123300        72       0.0   E   \n",
      "United Kingdom    \\N  51.528400  -0.133100        89       0.0   E   \n",
      "United Kingdom    \\N  51.496400  -0.143910        48       0.0   E   \n",
      "United Kingdom    \\N  51.503100  -0.114700        10       0.0   E   \n",
      "United Kingdom    \\N  51.528400  -0.133100        89       0.0   E   \n",
      "United Kingdom    \\N  51.503100  -0.114700        10       0.0   E   \n",
      "\n",
      "               Tz database_time_zone  \n",
      "Country                               \n",
      "United Kingdom         Europe/London  \n",
      "United Kingdom         Europe/London  \n",
      "United Kingdom         Europe/London  \n",
      "United Kingdom         Europe/London  \n",
      "United Kingdom         Europe/London  \n",
      "United Kingdom         Europe/London  \n",
      "United Kingdom         Europe/London  \n",
      "United Kingdom         Europe/London  \n",
      "United Kingdom         Europe/London  \n",
      "United Kingdom         Europe/London  \n",
      "United Kingdom         Europe/London  \n",
      "United Kingdom         Europe/London  \n",
      "United Kingdom         Europe/London  \n",
      "United Kingdom         Europe/London  \n",
      "United Kingdom         Europe/London  \n",
      "United Kingdom         Europe/London  \n",
      "United Kingdom         Europe/London  \n",
      "United Kingdom         Europe/London  \n",
      "========================= \n",
      "\n",
      "<class 'list'>\n",
      "========================= \n",
      "\n",
      "========================= \n",
      "\n",
      "<class 'list'>\n",
      "<class 'list'>\n",
      "========================= \n",
      "\n",
      "\n",
      "\n",
      "END A400_make_dataframes\n",
      "\n",
      "\n",
      "\n",
      "END A500_Render_Gmap\n",
      "\n"
     ]
    }
   ],
   "source": [
    "def A100_initialise_dataframe(): \n",
    " print(\"BEGIN A100_initialise_dataframe\"+\"\\n\") \n",
    " \n",
    "#Location = r'C:\\Users\\bruce\\OneDrive\\Udacity_Intro_to_Data_Analysis\\airports.dat'\n",
    "#AAPL = pd.read_csv(Location,\n",
    " global AAPL\n",
    " global BAPL\n",
    " global CAPL\n",
    " AAPL = pd.read_csv( \n",
    "    \"https://raw.githubusercontent.com/jpatokal/openflights/master/data/airports.dat\",\n",
    " header=None,\n",
    " sep=',',    \n",
    " names = ['Airport_ID', 'Name', 'City', 'Country', 'IATA_FAA', 'ICAO', 'Latitude', 'Longitude', 'Altitude', 'Timezone','DST','Tz database_time_zone'],\n",
    " \n",
    " )\n",
    "\n",
    "#1,\"Goroka\",\"Goroka\",\"Papua New Guinea\",\"GKA\",\"AYGA\",-6.081689,145.391881,5282,10,\"U\",\"Pacific/Port_Moresby\"\n",
    "#507,\"Heathrow\",\"London\",\"United Kingdom\",\"LHR\",\"EGLL\",51.4775,-0.461389,83,0,\"E\",\"Europe/London\"\n",
    "#503,\"City\",\"London\",\"United Kingdom\",\"LCY\",\"EGLC\",51.505278,0.055278,19,0,\"E\",\"Europe/London\"\n",
    " print(\"type(AAPL) : \\n\", type(AAPL))\n",
    " print(\"\\n\")\n",
    " print(\"AAPL.dtypes : \\n\", AAPL.dtypes)\n",
    " print(\"\\n\")\n",
    " print(\"AAPL.describe() : \\n\", AAPL.describe())\n",
    " print(\"\\n\")\n",
    " print(\"AAPL.info() : \\n\", AAPL.info())\n",
    " print(\"\\n\")\n",
    " print(\"AAPL.head() : \\n\", AAPL.head())\n",
    " \n",
    " print(\"\\n\")\n",
    " print(\"display.max_columns = \", pd.get_option(\"display.max_columns\"))\n",
    "\n",
    "#print(AAPL.head(10)) \n",
    " print(\"END A100_initialise_dataframe\"+\"\\n\") \n",
    " return \n",
    "\n",
    "def A200_Method_I():\n",
    "# Method 1:\n",
    " print(\"BEGIN A200_Method_I\"+\"\\n\")    \n",
    " print(AAPL[AAPL['Altitude'] == AAPL['Altitude'].max()])\n",
    " print(\"\\n\")\n",
    " print(\"END A200_Method_I\"+\"\\n\")    \n",
    " return\n",
    "\n",
    "\n",
    "\n",
    "def A300_Method_II():\n",
    "# Method 2:\n",
    " print(\"BEGIN A300_Method_II\"+\"\\n\")    \n",
    " print(\"\\n\")\n",
    " Sorted = AAPL.sort_values(['Altitude'], ascending=False)\n",
    " print(Sorted.head(1))\n",
    " print(\"\\n\")\n",
    " print(AAPL['Altitude'].max())\n",
    " print(\"\\n\")\n",
    " print(\"END A300_Method_II\"+\"\\n\")    \n",
    " return\n",
    "\n",
    "\n",
    "\n",
    "def A400_make_dataframes():\n",
    "# Method 2:\n",
    " print(\"BEGIN A400_make_dataframes\"+\"\\n\")    \n",
    " print(\"\\n\")\n",
    " #print(AAPL[AAPL['City'] == \"Leicester\"]) \n",
    " #print(AAPL[AAPL['City'] == \"London\"])\n",
    " BAPL=AAPL[AAPL['City'] == \"London\"]\n",
    " #print(\"\\n\")\n",
    " #print(BAPL[['City','Country','Latitude','Longitude']])\n",
    " #print(\"\\n\")\n",
    "\n",
    " CAPL=BAPL[BAPL['Country'] == \"United Kingdom\"]\n",
    " #print(CAPL[['Name','City','Country','Latitude','Longitude']])\n",
    "\n",
    " CAPL.set_index('Country', inplace=True)\n",
    " print(CAPL.head(18))\n",
    "\n",
    " print(\"========================= \\n\")\n",
    " print(\n",
    "       type( \n",
    "            (CAPL.to_csv(columns=['Latitude'], sep=',', index=False)).split()\n",
    "           )   \n",
    "      )\n",
    " print(\"========================= \\n\")\n",
    " \n",
    " print(\"========================= \\n\")\n",
    " print(\n",
    "       type( \n",
    "            (CAPL.to_csv(columns=['Longitude'], sep=',', index=False)).split()\n",
    "           )   \n",
    "      )\n",
    " BW_lat=[51.477500, 51.148056]\n",
    " print(type(BW_lat))\n",
    "   \n",
    " print(\"========================= \\n\")\n",
    " print(\"\\n\")\n",
    "\n",
    " print(\"END A400_make_dataframes\"+\"\\n\")    \n",
    " return\n",
    "\n",
    "\n",
    "def A000_make_stuff():\n",
    "# Method 2:\n",
    " print(\"BEGIN A000_make_stuff\"+\"\\n\")    \n",
    " print(\"\\n\")\n",
    " \n",
    " print(\"\\n\")\n",
    " print(\"END A000_make_stuff\"+\"\\n\")    \n",
    " return\n",
    "\n",
    "\n",
    "\n",
    "def A500_Render_Gmap():\n",
    " #map_options = GMapOptions(lat=30.29, lng=-97.73, map_type=\"roadmap\", zoom=11)\n",
    " map_options = GMapOptions(lat=51.148056, lng=-0.190278,map_type=\"roadmap\", zoom=9)\n",
    " \n",
    " plot = GMapPlot(\n",
    "     x_range=DataRange1d(), y_range=DataRange1d(), map_options=map_options, title=\"London\"\n",
    " )\n",
    "  \n",
    " source = ColumnDataSource(\n",
    "     data=dict(\n",
    "        lat=(CAPL.to_csv(columns=['Latitude'], sep=',', index=False)).split(),\n",
    "        lon=(CAPL.to_csv(columns=['Longitude'], sep=',', index=False)).split(),\n",
    "#        lat=[51.477500, 51.148056],\n",
    "#        lon=[-0.461389, -0.190278],\n",
    "\n",
    "     )\n",
    " )\n",
    "# London Heathrow \n",
    "#lat=51.477500\n",
    "#lon=-0.461389\n",
    "\n",
    "#London Gatwick\n",
    "#Lat=51.148056\n",
    "#Lon=-0.190278\n",
    " circle = Circle(x=\"lon\", y=\"lat\", size=10, fill_color=\"purple\", fill_alpha=0.8, line_color=None)\n",
    " plot.add_glyph(source, circle)\n",
    " \n",
    " plot.add_tools(PanTool(), WheelZoomTool(), BoxSelectTool())\n",
    " output_file(\"gmap_plot.html\")\n",
    " show(plot)\n",
    " print(\"\\n\")\n",
    " print(\"END A500_Render_Gmap\"+\"\\n\")    \n",
    " return\n",
    "\n",
    "\n",
    "import pandas as pd \n",
    " \n",
    "from bokeh.plotting import figure \n",
    "from bokeh.io import output_file, show\n",
    "from bokeh.models import (\n",
    "  GMapPlot, GMapOptions, ColumnDataSource, Circle, DataRange1d, PanTool, WheelZoomTool, BoxSelectTool\n",
    ")\n",
    "\n",
    "A100_initialise_dataframe() \n",
    "\n",
    "#A200_Method_I()\n",
    "\n",
    "#A300_Method_II()\n",
    "\n",
    "A400_make_dataframes()\n",
    "\n",
    "A500_Render_Gmap()\n",
    "\n",
    "\n",
    "\n",
    "\n",
    "\n",
    "    \n",
    "\n"
   ]
  },
  {
   "cell_type": "code",
   "execution_count": null,
   "metadata": {
    "collapsed": false
   },
   "outputs": [],
   "source": [
    "CAPL.index"
   ]
  },
  {
   "cell_type": "code",
   "execution_count": null,
   "metadata": {
    "collapsed": true
   },
   "outputs": [],
   "source": []
  },
  {
   "cell_type": "code",
   "execution_count": null,
   "metadata": {
    "collapsed": false,
    "scrolled": true
   },
   "outputs": [],
   "source": [
    "CAPL.shape\n"
   ]
  },
  {
   "cell_type": "code",
   "execution_count": null,
   "metadata": {
    "collapsed": false
   },
   "outputs": [],
   "source": [
    "CAPL.head()"
   ]
  },
  {
   "cell_type": "code",
   "execution_count": null,
   "metadata": {
    "collapsed": true
   },
   "outputs": [],
   "source": [
    "CAPL.set_index('Name', inplace=True)"
   ]
  },
  {
   "cell_type": "code",
   "execution_count": null,
   "metadata": {
    "collapsed": false
   },
   "outputs": [],
   "source": [
    "CAPL.index"
   ]
  },
  {
   "cell_type": "code",
   "execution_count": null,
   "metadata": {
    "collapsed": false
   },
   "outputs": [],
   "source": [
    "CAPL.columns"
   ]
  },
  {
   "cell_type": "code",
   "execution_count": null,
   "metadata": {
    "collapsed": false
   },
   "outputs": [],
   "source": [
    "CAPL.head(100)"
   ]
  },
  {
   "cell_type": "code",
   "execution_count": null,
   "metadata": {
    "collapsed": false
   },
   "outputs": [],
   "source": [
    "CAPL.loc['All Airports', 'Latitude']"
   ]
  },
  {
   "cell_type": "code",
   "execution_count": null,
   "metadata": {
    "collapsed": false
   },
   "outputs": [],
   "source": [
    "__author__ = 'Bruce.Woodley'\n",
    "# version 3\n",
    "#http://sqlite.org/\n",
    "#https://addons.mozilla.org/en-us/firefox/addon/sqlite-manager/\n",
    "#For Ankur Pandey's  \"sql learnings\"\n",
    "def main():\n",
    "    import sqlite3\n",
    "    import time\n",
    "\n",
    "    conn = sqlite3.connect('music.sqlite3')\n",
    "    cur = conn.cursor()\n",
    "    cur.execute('DROP TABLE IF EXISTS Tracks')\n",
    "    cur.execute('CREATE TABLE Tracks (title TEXT , plays INTEGER)')\n",
    "    conn.close()\n",
    "\n",
    "    conn = sqlite3.connect('music.sqlite3')\n",
    "    cur = conn.cursor()\n",
    "    cur.execute('INSERT INTO Tracks (title, plays) VALUES (?, ?)', ('Thunderstruck',20) )\n",
    "    cur.execute('INSERT INTO Tracks (title, plays) VALUES (?, ?)',('My Way', 15) )\n",
    "    cur.execute('INSERT INTO Tracks (title, plays) VALUES (?, ?)',('Lean On (by Major Lazer & DJ Snake)', 100) )\n",
    "    conn.commit()\n",
    "\n",
    "    print(\"Tracks:\")\n",
    "    cur.execute('SELECT title, plays FROM Tracks')\n",
    "    for row in cur :\n",
    "       print(row)\n",
    "    cur.execute('DELETE FROM Tracks WHERE plays < 100')\n",
    "    conn.commit()\n",
    "    cur.close()\n",
    "    \n",
    "    print(\"\\n\")\n",
    "    print(\"Ankur's SQL Learnings executed on date and time: \",time.strftime(\"%Y-%m-%d  %H:%M:%S\"))\n",
    "    return\n",
    "\n",
    "main()\n"
   ]
  },
  {
   "cell_type": "code",
   "execution_count": null,
   "metadata": {
    "collapsed": false
   },
   "outputs": [],
   "source": [
    "import pandas as pd \n",
    "from bokeh.plotting import figure \n",
    "\n",
    "AAPL = pd.read_csv( \n",
    "    \"http://ichart.yahoo.com/table.csv?s=AAPL&a=0&b=1&c=2000&d=0&e=1&f=2015\", \n",
    "    parse_dates=['Date']) \n",
    "#print(AAPL)\n",
    "\n",
    "MSFT = pd.read_csv( \n",
    "    \"http://ichart.yahoo.com/table.csv?s=MSFT&a=0&b=1&c=2000&d=0&e=1&f=2015\", \n",
    "    parse_dates=['Date']) \n",
    "\n",
    "IBM = pd.read_csv( \n",
    "    \"http://ichart.yahoo.com/table.csv?s=IBM&a=0&b=1&c=2000&d=0&e=1&f=2015\", \n",
    "    parse_dates=['Date']) \n",
    "\n",
    "def make_figure(): \n",
    "    p = figure(x_axis_type=\"datetime\", width=700, height=300) \n",
    "    p.line(AAPL['Date'], AAPL['Adj Close'], color='#A6CEE3', legend='AAPL') \n",
    "    p.line(IBM['Date'], IBM['Adj Close'], color='#33A02C', legend='IBM') \n",
    "    p.line(MSFT['Date'], MSFT['Adj Close'], color='#FB9A99', legend='MSFT') \n",
    "    p.title = \"Stock Closing Prices\" \n",
    "    p.grid.grid_line_alpha=0.3 \n",
    "    p.xaxis.axis_label = 'Date' \n",
    "    p.yaxis.axis_label = 'Price' \n",
    "    p.legend.orientation = \"top_left\" \n",
    "    return p \n",
    "\n",
    "from bokeh.io import output_notebook, show \n",
    "\n",
    "output_notebook() \n",
    "\n",
    "p = make_figure() \n",
    "\n",
    "show(p) \n"
   ]
  },
  {
   "cell_type": "code",
   "execution_count": null,
   "metadata": {
    "collapsed": false
   },
   "outputs": [],
   "source": [
    "import numpy as np \n",
    "from bokeh.plotting import  show, figure \n",
    "from bokeh.io import output_notebook\n",
    "\n",
    "x = np.linspace(-1.0*np.pi, 2*np.pi, 400) \n",
    "#print(x)\n",
    "y1 = np.sin(x) \n",
    "#y2 =np.exp(x)\n",
    "\n",
    "output_notebook() \n",
    "\n",
    "p = figure() \n",
    "p.circle(x, y1, legend=\"sin(x)\",line_color=\"orange\") \n",
    "#p.circle(x, y2, legend=\"exp(x)\",line_color=\"orange\") \n",
    "\n",
    "\n",
    "\n",
    "\n",
    "show(p) \n"
   ]
  },
  {
   "cell_type": "code",
   "execution_count": null,
   "metadata": {
    "collapsed": false
   },
   "outputs": [],
   "source": [
    "\n",
    "\n"
   ]
  },
  {
   "cell_type": "code",
   "execution_count": null,
   "metadata": {
    "collapsed": false
   },
   "outputs": [],
   "source": [
    "\n",
    "\n"
   ]
  },
  {
   "cell_type": "code",
   "execution_count": null,
   "metadata": {
    "collapsed": false
   },
   "outputs": [],
   "source": [
    "from bokeh.sampledata.autompg import autompg as df \n",
    "#from bokeh.charts import Scatter, output_file, show \n",
    "from bokeh.charts import Scatter  \n",
    "from bokeh.io import output_notebook, show \n",
    "\n",
    "\n",
    "\n",
    "scatter = Scatter(df, x='mpg', y='hp', color='cyl', marker='origin', \n",
    "                  title=\"mpg\", xlabel=\"Miles Per Gallon\", ylabel=\"Horsepower\") \n",
    "\n",
    "#output_file('scatter.html') \n",
    "output_notebook() \n",
    "\n",
    "\n",
    "show(scatter) \n",
    "\n"
   ]
  },
  {
   "cell_type": "code",
   "execution_count": null,
   "metadata": {
    "collapsed": false
   },
   "outputs": [],
   "source": [
    "#from bokeh.sampledata.autompg import autompg as df\n",
    "from bokeh.sampledata.autompg import autompg\n",
    "from bokeh.sampledata.iris import flowers\n",
    "#from bokeh.sampledata.stocks  import AAPL\n",
    "\n",
    "#print(type(df))\n",
    "print(str(flowers))\n",
    "#print(df.index)\n",
    "#print(df.info)"
   ]
  },
  {
   "cell_type": "code",
   "execution_count": null,
   "metadata": {
    "collapsed": false
   },
   "outputs": [],
   "source": [
    "a=0xfe\n",
    "print(hex(a), int(a), oct(a), bin(a))\n",
    "\n",
    "print(int('010', 2)  ) \n",
    "print(int('010', 8)  ) \n",
    "print(int('010', 10)  ) \n",
    "print(int('010', 16)  ) \n",
    "\n",
    "print(int('ff', 16)  )\n",
    "\n"
   ]
  },
  {
   "cell_type": "code",
   "execution_count": null,
   "metadata": {
    "collapsed": false
   },
   "outputs": [],
   "source": [
    "import matplotlib.pyplot as plt\n",
    "x = [1, 2, 3]\n",
    "y = [1, 2, 6]\n",
    "fig = plt.figure()\n",
    "ax = plt.axes()\n",
    "\n",
    "plt.plot(x, y)\n",
    "plt.show()\n"
   ]
  },
  {
   "cell_type": "code",
   "execution_count": null,
   "metadata": {
    "collapsed": false
   },
   "outputs": [],
   "source": [
    "  '''\n",
    "  Example of selecting a transformation from two equally probable\n",
    "  transformations\n",
    "  '''\n",
    "  import matplotlib.pyplot as plt\n",
    "  import random\n",
    "\n",
    "  def transformation_1(p):\n",
    "      x = p[0]\n",
    "      y = p[1]\n",
    "      return x + 1, y - 1\n",
    "\n",
    "  def transformation_2(p):\n",
    "      x = p[0]\n",
    "      y = p[1]\n",
    "      return x + 1, y + 1\n",
    "\n",
    "  def transform(p):\n",
    "      # List of transformation functions\n",
    "      transformations = [transformation_1, transformation_2]\n",
    "      # Pick a random transformation function and call it\n",
    "      t = random.choice(transformations)\n",
    "      x, y = t(p)\n",
    "      return x, y\n",
    "\n",
    "  def build_trajectory(p, n):\n",
    "      x = [p[0]]\n",
    "      y = [p[1]]\n",
    "      for i in range(n):\n",
    "          p = transform(p)\n",
    "          x.append(p[0])\n",
    "          y.append(p[1])\n",
    "      return x, y\n",
    "  if __name__ == '__main__':\n",
    "      # Initial point\n",
    "      p = (1, 1)\n",
    "      n = int(input('Enter the number of iterations: '))\n",
    "      x, y = build_trajectory(p, n)\n",
    "      # Plot\n",
    "      plt.plot(x, y)\n",
    "      plt.xlabel('X')\n",
    "      plt.ylabel('Y')\n",
    "      plt.show()\n"
   ]
  },
  {
   "cell_type": "code",
   "execution_count": null,
   "metadata": {
    "collapsed": false,
    "scrolled": true
   },
   "outputs": [],
   "source": [
    "'''\n",
    "Draw a Barnsley Fern\n",
    "'''\n",
    "import random\n",
    "import matplotlib.pyplot as plt\n",
    "\n",
    "def transformation_1(p):\n",
    "    x = p[0]\n",
    "    y = p[1]\n",
    "    x1 = 0.85*x + 0.04*y\n",
    "    y1 = -0.04*x + 0.85*y + 1.6\n",
    "    return x1, y1\n",
    "\n",
    "def transformation_2(p):\n",
    "    x = p[0]\n",
    "    y = p[1]\n",
    "    x1 = 0.2*x - 0.26*y\n",
    "    y1 = 0.23*x + 0.22*y + 1.6\n",
    "    return x1, y1\n",
    "\n",
    "def transformation_3(p):\n",
    "    x = p[0]\n",
    "    y = p[1]\n",
    "    x1 = -0.15*x + 0.28*y\n",
    "    y1 = 0.26*x + 0.24*y + 0.44\n",
    "    return x1, y1\n",
    "\n",
    "def transformation_4(p):\n",
    "    x = p[0]\n",
    "    y = p[1]\n",
    "    x1 = 0\n",
    "    y1 = 0.16*y\n",
    "    return x1, y1\n",
    "\n",
    "def get_index(probability):\n",
    "      r = random.random()\n",
    "      c_probability = 0\n",
    "      sum_probability = []\n",
    "      for p in probability:\n",
    "          c_probability += p\n",
    "          sum_probability.append(c_probability)\n",
    "      for item, sp in enumerate(sum_probability):\n",
    "          if r <= sp:\n",
    "              return item\n",
    "      return len(probability)-1\n",
    "\n",
    "def transform(p):\n",
    "      # List of transformation functions\n",
    "      transformations = [transformation_1, transformation_2,\n",
    "                             transformation_3, transformation_4]\n",
    "      probability = [0.85, 0.07, 0.07, 0.01]\n",
    "      # Pick a random transformation function and call it\n",
    "      tindex = get_index(probability)\n",
    "      t = transformations[tindex]\n",
    "      x, y = t(p)\n",
    "      return x, y\n",
    "\n",
    "def draw_fern(n):\n",
    "      # We start with (0, 0)\n",
    "      x = [0]\n",
    "      y = [0]\n",
    "\n",
    "      x1, y1 = 0, 0\n",
    "      for i in range(n):\n",
    "         x1, y1 = transform((x1, y1))\n",
    "         x.append(x1)\n",
    "         y.append(y1)\n",
    "      return x, y\n",
    "\n",
    "if __name__ == '__main__':\n",
    "      n = int(input('Enter the number of points in the Fern: '))\n",
    "      x, y = draw_fern(n)\n",
    "      # Plot the points\n",
    "      plt.plot(x, y, 'o')\n",
    "      plt.title('Fern with {0} points'.format(n))\n",
    "      plt.show()\n"
   ]
  },
  {
   "cell_type": "code",
   "execution_count": null,
   "metadata": {
    "collapsed": false
   },
   "outputs": [],
   "source": [
    "import math\n",
    "math.sin(math.pi/2)\n"
   ]
  },
  {
   "cell_type": "code",
   "execution_count": null,
   "metadata": {
    "collapsed": false
   },
   "outputs": [],
   "source": [
    "import inspect \n",
    "import sympy\n",
    "print(sympy.sin(math.pi/2))\n",
    "\n",
    "\n",
    "\n",
    "#print(dir(sympy))\n",
    "#print(inspect.getclasstree(sympy))\n",
    "#print(inspect.getmembers(sympy.tan,isclass))\n",
    "\n",
    "\n",
    "from sympy import sin, sine_transform, solve\n",
    "print(sin(math.pi/2))\n",
    "\n",
    "\n",
    "print(\"\\n\")\n",
    "print (\"inspect.ismodule(sympy.sin):\", inspect.ismodule(sympy.sin))\n",
    "print (\"inspect.ismethod(sympy.sin):\", inspect.ismethod(sympy.sin))\n",
    "print (\"inspect.isclass(sympy.sin):\", inspect.isclass(sympy.sin))\n",
    "print (\"inspect.isfunction(sympy.sin)\", inspect.isfunction(sympy.sin))\n",
    "#print(dir(solve))\n",
    "\n",
    "from sympy import Symbol\n",
    "theta = Symbol('theta')\n",
    "print( sympy.sin(theta) + sympy.sin(theta) ) \n",
    "\n",
    "from sympy import sin, solve, Symbol\n",
    "u = Symbol('u')\n",
    "t = Symbol('t')\n",
    "g = Symbol('g')\n",
    "theta1 = Symbol('theta1')\n",
    "solve(u*sin(theta1)-g*t, t)\n",
    "\n",
    "\n",
    "\n",
    "x = Symbol('x', positive=True)\n",
    "if (x+5) > 0:\n",
    "    print('Do Something where positive=True')\n",
    "else:\n",
    "    print('Do Something else where not(positive=True)')\n",
    "\n",
    "\n",
    "from sympy import Limit, Symbol, S\n",
    "x = Symbol('x')\n",
    "y = Limit(1/x, x, S.Infinity)\n",
    "print(type(y), y)     \n",
    "    \n",
    "    "
   ]
  },
  {
   "cell_type": "code",
   "execution_count": null,
   "metadata": {
    "collapsed": false
   },
   "outputs": [],
   "source": [
    "import inspect \n",
    "import re\n",
    "\n",
    "\n",
    "\n",
    "\n",
    "print(dir(re))\n",
    "print(\"\\n\")\n",
    "print (\"inspect.ismodule(re.findall):\", inspect.ismodule(re.findall))\n",
    "print (\"inspect.ismethod(re.findall):\", inspect.ismethod(re.findall))\n",
    "print (\"inspect.isclass(re.findall):\", inspect.isclass(re.findall))\n",
    "print (\"inspect.isfunction(re.findall)\", inspect.isfunction(re.findall))\n",
    "\n",
    "\n",
    "#print(inspect.getclasstree(re))\n",
    "print(inspect.getmembers(re))\n",
    "\n",
    "\n",
    "\n",
    "\n",
    "#print (\"inspect.ismethod(findall):\", inspect.ismethod(finall))\n",
    "#print(dir(solve))"
   ]
  },
  {
   "cell_type": "code",
   "execution_count": null,
   "metadata": {
    "collapsed": false
   },
   "outputs": [],
   "source": [
    "#from numpy import pi,linspace,sin\n",
    "#from matplotlib.pyplot import plot\n",
    "#x = linspace(0,3*pi,500)\n",
    "#print(x)\n",
    "#plot(x,sin(x**2))\n",
    "#title('A simple chirp');\n",
    "# OneNote Python 101 - Worked Exampes - bokeh multi line, multi axis \n",
    "\n",
    "\n",
    "import numpy as np \n",
    "from bokeh.plotting import  show, figure \n",
    "from bokeh.io import output_notebook\n",
    "\n",
    "x = np.linspace(0, 2*np.pi, 100) \n",
    "#print(x)\n",
    "y = np.sin(1/x) \n",
    "\n",
    "output_notebook() \n",
    "\n",
    "p = figure() \n",
    " \n",
    "p.line(x, y, legend=\"sin(1/x)\") \n",
    "\n",
    "\n",
    "\n",
    "show(p) \n",
    "\n",
    "\n",
    "\n",
    "\n"
   ]
  }
 ],
 "metadata": {
  "kernelspec": {
   "display_name": "Python 3",
   "language": "python",
   "name": "python3"
  },
  "language_info": {
   "codemirror_mode": {
    "name": "ipython",
    "version": 3
   },
   "file_extension": ".py",
   "mimetype": "text/x-python",
   "name": "python",
   "nbconvert_exporter": "python",
   "pygments_lexer": "ipython3",
   "version": "3.5.1"
  }
 },
 "nbformat": 4,
 "nbformat_minor": 0
}
