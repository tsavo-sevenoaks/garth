{
 "cells": [
  {
   "cell_type": "markdown",
   "metadata": {},
   "source": [
    "# iPython 101 - using numpy, scipy, matplotlib, sqlite3 and Bokeh.\n",
    " it takes a long time to load - be patient!"
   ]
  },
  {
   "cell_type": "code",
   "execution_count": 1,
   "metadata": {
    "collapsed": false
   },
   "outputs": [
    {
     "name": "stdout",
     "output_type": "stream",
     "text": [
      "hello world - BRUCE\n",
      "Date & Time :  2016-08-21  13:48:36\n"
     ]
    }
   ],
   "source": [
    "a = \"hello world - BRUCE\"\n",
    "print(a)\n",
    "import time\n",
    "\n",
    "#print(\"date and time when this Notebook was run on http://localhost:8888/notebooks/ipython_101_notebook-Copy1.ipynb\")\n",
    "print(\"Date & Time : \",time.strftime(\"%Y-%m-%d  %H:%M:%S\"))"
   ]
  },
  {
   "cell_type": "code",
   "execution_count": null,
   "metadata": {
    "collapsed": true
   },
   "outputs": [],
   "source": []
  },
  {
   "cell_type": "code",
   "execution_count": 2,
   "metadata": {
    "collapsed": false
   },
   "outputs": [
    {
     "name": "stdout",
     "output_type": "stream",
     "text": [
      "Tracks:\n",
      "('Thunderstruck', 20)\n",
      "('My Way', 15)\n",
      "('Lean On (by Major Lazer & DJ Snake)', 100)\n",
      "\n",
      "\n",
      "Ankur's SQL Learnings executed on date and time:  2016-08-21  13:48:37\n"
     ]
    }
   ],
   "source": [
    "__author__ = 'Bruce.Woodley'\n",
    "# version 3\n",
    "#http://sqlite.org/\n",
    "#https://addons.mozilla.org/en-us/firefox/addon/sqlite-manager/\n",
    "#For Ankur Pandey's  \"sql learnings\"\n",
    "def main():\n",
    "    import sqlite3\n",
    "    import time\n",
    "\n",
    "    conn = sqlite3.connect('music.sqlite3')\n",
    "    cur = conn.cursor()\n",
    "    cur.execute('DROP TABLE IF EXISTS Tracks')\n",
    "    cur.execute('CREATE TABLE Tracks (title TEXT , plays INTEGER)')\n",
    "    conn.close()\n",
    "\n",
    "    conn = sqlite3.connect('music.sqlite3')\n",
    "    cur = conn.cursor()\n",
    "    cur.execute('INSERT INTO Tracks (title, plays) VALUES (?, ?)', ('Thunderstruck',20) )\n",
    "    cur.execute('INSERT INTO Tracks (title, plays) VALUES (?, ?)',('My Way', 15) )\n",
    "    cur.execute('INSERT INTO Tracks (title, plays) VALUES (?, ?)',('Lean On (by Major Lazer & DJ Snake)', 100) )\n",
    "    conn.commit()\n",
    "\n",
    "    print(\"Tracks:\")\n",
    "    cur.execute('SELECT title, plays FROM Tracks')\n",
    "    for row in cur :\n",
    "       print(row)\n",
    "    cur.execute('DELETE FROM Tracks WHERE plays < 100')\n",
    "    conn.commit()\n",
    "    cur.close()\n",
    "    \n",
    "    print(\"\\n\")\n",
    "    print(\"Ankur's SQL Learnings executed on date and time: \",time.strftime(\"%Y-%m-%d  %H:%M:%S\"))\n",
    "    return\n",
    "\n",
    "main()\n"
   ]
  },
  {
   "cell_type": "code",
   "execution_count": null,
   "metadata": {
    "collapsed": true
   },
   "outputs": [],
   "source": []
  },
  {
   "cell_type": "code",
   "execution_count": null,
   "metadata": {
    "collapsed": true
   },
   "outputs": [],
   "source": []
  },
  {
   "cell_type": "code",
   "execution_count": null,
   "metadata": {
    "collapsed": true
   },
   "outputs": [],
   "source": []
  },
  {
   "cell_type": "code",
   "execution_count": 3,
   "metadata": {
    "collapsed": false
   },
   "outputs": [
    {
     "data": {
      "text/html": [
       "\n",
       "    <div class=\"bk-banner\">\n",
       "        <a href=\"http://bokeh.pydata.org\" target=\"_blank\" class=\"bk-logo bk-logo-small bk-logo-notebook\"></a>\n",
       "        <span id=\"23781329-bd4a-4d4f-a1a7-cab9748acdc9\">Loading BokehJS ...</span>\n",
       "    </div>"
      ]
     },
     "metadata": {},
     "output_type": "display_data"
    },
    {
     "data": {
      "application/javascript": [
       "\n",
       "(function(global) {\n",
       "  function now() {\n",
       "    return new Date();\n",
       "  }\n",
       "\n",
       "  if (typeof (window._bokeh_onload_callbacks) === \"undefined\") {\n",
       "    window._bokeh_onload_callbacks = [];\n",
       "  }\n",
       "\n",
       "  function run_callbacks() {\n",
       "    window._bokeh_onload_callbacks.forEach(function(callback) { callback() });\n",
       "    delete window._bokeh_onload_callbacks\n",
       "    console.info(\"Bokeh: all callbacks have finished\");\n",
       "  }\n",
       "\n",
       "  function load_libs(js_urls, callback) {\n",
       "    window._bokeh_onload_callbacks.push(callback);\n",
       "    if (window._bokeh_is_loading > 0) {\n",
       "      console.log(\"Bokeh: BokehJS is being loaded, scheduling callback at\", now());\n",
       "      return null;\n",
       "    }\n",
       "    if (js_urls == null || js_urls.length === 0) {\n",
       "      run_callbacks();\n",
       "      return null;\n",
       "    }\n",
       "    console.log(\"Bokeh: BokehJS not loaded, scheduling load and callback at\", now());\n",
       "    window._bokeh_is_loading = js_urls.length;\n",
       "    for (var i = 0; i < js_urls.length; i++) {\n",
       "      var url = js_urls[i];\n",
       "      var s = document.createElement('script');\n",
       "      s.src = url;\n",
       "      s.async = false;\n",
       "      s.onreadystatechange = s.onload = function() {\n",
       "        window._bokeh_is_loading--;\n",
       "        if (window._bokeh_is_loading === 0) {\n",
       "          console.log(\"Bokeh: all BokehJS libraries loaded\");\n",
       "          run_callbacks()\n",
       "        }\n",
       "      };\n",
       "      s.onerror = function() {\n",
       "        console.warn(\"failed to load library \" + url);\n",
       "      };\n",
       "      console.log(\"Bokeh: injecting script tag for BokehJS library: \", url);\n",
       "      document.getElementsByTagName(\"head\")[0].appendChild(s);\n",
       "    }\n",
       "  };\n",
       "\n",
       "  var js_urls = ['https://cdn.pydata.org/bokeh/release/bokeh-0.11.1.min.js', 'https://cdn.pydata.org/bokeh/release/bokeh-widgets-0.11.1.min.js', 'https://cdn.pydata.org/bokeh/release/bokeh-compiler-0.11.1.min.js'];\n",
       "\n",
       "  var inline_js = [\n",
       "    function(Bokeh) {\n",
       "      Bokeh.set_log_level(\"info\");\n",
       "    },\n",
       "    \n",
       "    function(Bokeh) {\n",
       "      Bokeh.$(\"#23781329-bd4a-4d4f-a1a7-cab9748acdc9\").text(\"BokehJS successfully loaded\");\n",
       "    },\n",
       "    function(Bokeh) {\n",
       "      console.log(\"Bokeh: injecting CSS: https://cdn.pydata.org/bokeh/release/bokeh-0.11.1.min.css\");\n",
       "      Bokeh.embed.inject_css(\"https://cdn.pydata.org/bokeh/release/bokeh-0.11.1.min.css\");\n",
       "      console.log(\"Bokeh: injecting CSS: https://cdn.pydata.org/bokeh/release/bokeh-widgets-0.11.1.min.css\");\n",
       "      Bokeh.embed.inject_css(\"https://cdn.pydata.org/bokeh/release/bokeh-widgets-0.11.1.min.css\");\n",
       "    }\n",
       "  ];\n",
       "\n",
       "  function run_inline_js() {\n",
       "    for (var i = 0; i < inline_js.length; i++) {\n",
       "      inline_js[i](window.Bokeh);\n",
       "    }\n",
       "  }\n",
       "\n",
       "  if (window._bokeh_is_loading === 0) {\n",
       "    console.log(\"Bokeh: BokehJS loaded, going straight to plotting\");\n",
       "    run_inline_js();\n",
       "  } else {\n",
       "    load_libs(js_urls, function() {\n",
       "      console.log(\"Bokeh: BokehJS plotting callback run at\", now());\n",
       "      run_inline_js();\n",
       "    });\n",
       "  }\n",
       "}(this));"
      ]
     },
     "metadata": {},
     "output_type": "display_data"
    },
    {
     "data": {
      "text/html": [
       "\n",
       "\n",
       "    <div class=\"plotdiv\" id=\"b50b8f5a-7d2a-47b4-ba93-d0fcc0c6adbc\"></div>\n",
       "<script type=\"text/javascript\">\n",
       "  \n",
       "  (function(global) {\n",
       "    function now() {\n",
       "      return new Date();\n",
       "    }\n",
       "  \n",
       "    if (typeof (window._bokeh_onload_callbacks) === \"undefined\") {\n",
       "      window._bokeh_onload_callbacks = [];\n",
       "    }\n",
       "  \n",
       "    function run_callbacks() {\n",
       "      window._bokeh_onload_callbacks.forEach(function(callback) { callback() });\n",
       "      delete window._bokeh_onload_callbacks\n",
       "      console.info(\"Bokeh: all callbacks have finished\");\n",
       "    }\n",
       "  \n",
       "    function load_libs(js_urls, callback) {\n",
       "      window._bokeh_onload_callbacks.push(callback);\n",
       "      if (window._bokeh_is_loading > 0) {\n",
       "        console.log(\"Bokeh: BokehJS is being loaded, scheduling callback at\", now());\n",
       "        return null;\n",
       "      }\n",
       "      if (js_urls == null || js_urls.length === 0) {\n",
       "        run_callbacks();\n",
       "        return null;\n",
       "      }\n",
       "      console.log(\"Bokeh: BokehJS not loaded, scheduling load and callback at\", now());\n",
       "      window._bokeh_is_loading = js_urls.length;\n",
       "      for (var i = 0; i < js_urls.length; i++) {\n",
       "        var url = js_urls[i];\n",
       "        var s = document.createElement('script');\n",
       "        s.src = url;\n",
       "        s.async = false;\n",
       "        s.onreadystatechange = s.onload = function() {\n",
       "          window._bokeh_is_loading--;\n",
       "          if (window._bokeh_is_loading === 0) {\n",
       "            console.log(\"Bokeh: all BokehJS libraries loaded\");\n",
       "            run_callbacks()\n",
       "          }\n",
       "        };\n",
       "        s.onerror = function() {\n",
       "          console.warn(\"failed to load library \" + url);\n",
       "        };\n",
       "        console.log(\"Bokeh: injecting script tag for BokehJS library: \", url);\n",
       "        document.getElementsByTagName(\"head\")[0].appendChild(s);\n",
       "      }\n",
       "    };var element = document.getElementById(\"b50b8f5a-7d2a-47b4-ba93-d0fcc0c6adbc\");\n",
       "    if (element == null) {\n",
       "      console.log(\"Bokeh: ERROR: autoload.js configured with elementid 'b50b8f5a-7d2a-47b4-ba93-d0fcc0c6adbc' but no matching script tag was found. \")\n",
       "      return false;\n",
       "    }\n",
       "  \n",
       "    var js_urls = [];\n",
       "  \n",
       "    var inline_js = [\n",
       "      function(Bokeh) {\n",
       "        Bokeh.$(function() {\n",
       "            var docs_json = {\"cc89032a-7667-45fe-85ce-77c56f64f929\":{\"roots\":{\"references\":[{\"attributes\":{},\"id\":\"db027afd-e938-4b39-9ba5-f7d148cd860d\",\"type\":\"ToolEvents\"},{\"attributes\":{\"below\":[{\"id\":\"da0af73e-c45f-44f1-a73b-420aaff596a2\",\"type\":\"LinearAxis\"}],\"left\":[{\"id\":\"e857dc2b-61d7-4f8d-940e-9c713a1a21fa\",\"type\":\"LinearAxis\"}],\"renderers\":[{\"id\":\"da0af73e-c45f-44f1-a73b-420aaff596a2\",\"type\":\"LinearAxis\"},{\"id\":\"8ec17cb8-2b46-4f07-8a03-7de6ff51967a\",\"type\":\"Grid\"},{\"id\":\"e857dc2b-61d7-4f8d-940e-9c713a1a21fa\",\"type\":\"LinearAxis\"},{\"id\":\"b820aa8a-a072-477c-954c-24083d6392e6\",\"type\":\"Grid\"},{\"id\":\"d3e3955e-1c99-4ca1-9634-aad467ea3771\",\"type\":\"BoxAnnotation\"},{\"id\":\"f5bd8f97-b2bc-461a-8774-59ce613316d3\",\"type\":\"Legend\"},{\"id\":\"5739b395-36da-4fb0-8605-e7a1ac3a6e88\",\"type\":\"GlyphRenderer\"}],\"tool_events\":{\"id\":\"db027afd-e938-4b39-9ba5-f7d148cd860d\",\"type\":\"ToolEvents\"},\"tools\":[{\"id\":\"c4eab5a3-3336-4588-b271-152511fa743c\",\"type\":\"PanTool\"},{\"id\":\"58bdef42-2928-40ad-92fd-402a2ac86fa2\",\"type\":\"WheelZoomTool\"},{\"id\":\"ffc7cc40-fa2b-4d9f-b081-88c81f81c3c2\",\"type\":\"BoxZoomTool\"},{\"id\":\"d916d6ad-9d3a-4c1e-8a7b-8bf4a6d851d8\",\"type\":\"PreviewSaveTool\"},{\"id\":\"f07bf372-3d17-4d51-87d2-c984e8caa2c4\",\"type\":\"ResizeTool\"},{\"id\":\"6e27ac9b-d5e6-4f5e-a132-459e5652445e\",\"type\":\"ResetTool\"},{\"id\":\"54b931dc-fe22-4ce1-ba33-9ba41dc59a8e\",\"type\":\"HelpTool\"}],\"x_range\":{\"id\":\"73e87c51-76c2-475b-9651-3c3506f1bcff\",\"type\":\"DataRange1d\"},\"y_range\":{\"id\":\"8331b5d5-6bf7-4e0c-be25-24e35a41bcc9\",\"type\":\"DataRange1d\"}},\"id\":\"581131b1-5dfd-41bb-bd59-a6fa2fd4cb59\",\"subtype\":\"Figure\",\"type\":\"Plot\"},{\"attributes\":{\"formatter\":{\"id\":\"d83f450a-e1f0-4d2d-af17-049d076f3430\",\"type\":\"BasicTickFormatter\"},\"plot\":{\"id\":\"581131b1-5dfd-41bb-bd59-a6fa2fd4cb59\",\"subtype\":\"Figure\",\"type\":\"Plot\"},\"ticker\":{\"id\":\"81198b66-aace-4c54-a1d6-419df4616699\",\"type\":\"BasicTicker\"}},\"id\":\"da0af73e-c45f-44f1-a73b-420aaff596a2\",\"type\":\"LinearAxis\"},{\"attributes\":{\"plot\":{\"id\":\"581131b1-5dfd-41bb-bd59-a6fa2fd4cb59\",\"subtype\":\"Figure\",\"type\":\"Plot\"}},\"id\":\"c4eab5a3-3336-4588-b271-152511fa743c\",\"type\":\"PanTool\"},{\"attributes\":{},\"id\":\"78891a2e-8dfb-4940-8db1-d45d07aeb0ee\",\"type\":\"BasicTicker\"},{\"attributes\":{\"plot\":{\"id\":\"581131b1-5dfd-41bb-bd59-a6fa2fd4cb59\",\"subtype\":\"Figure\",\"type\":\"Plot\"}},\"id\":\"d916d6ad-9d3a-4c1e-8a7b-8bf4a6d851d8\",\"type\":\"PreviewSaveTool\"},{\"attributes\":{\"bottom_units\":\"screen\",\"fill_alpha\":{\"value\":0.5},\"fill_color\":{\"value\":\"lightgrey\"},\"left_units\":\"screen\",\"level\":\"overlay\",\"line_alpha\":{\"value\":1.0},\"line_color\":{\"value\":\"black\"},\"line_dash\":[4,4],\"line_width\":{\"value\":2},\"plot\":null,\"render_mode\":\"css\",\"right_units\":\"screen\",\"top_units\":\"screen\"},\"id\":\"d3e3955e-1c99-4ca1-9634-aad467ea3771\",\"type\":\"BoxAnnotation\"},{\"attributes\":{\"plot\":{\"id\":\"581131b1-5dfd-41bb-bd59-a6fa2fd4cb59\",\"subtype\":\"Figure\",\"type\":\"Plot\"}},\"id\":\"54b931dc-fe22-4ce1-ba33-9ba41dc59a8e\",\"type\":\"HelpTool\"},{\"attributes\":{\"formatter\":{\"id\":\"ede6e63f-2d31-4e35-8df1-e58c4a5755e7\",\"type\":\"BasicTickFormatter\"},\"plot\":{\"id\":\"581131b1-5dfd-41bb-bd59-a6fa2fd4cb59\",\"subtype\":\"Figure\",\"type\":\"Plot\"},\"ticker\":{\"id\":\"78891a2e-8dfb-4940-8db1-d45d07aeb0ee\",\"type\":\"BasicTicker\"}},\"id\":\"e857dc2b-61d7-4f8d-940e-9c713a1a21fa\",\"type\":\"LinearAxis\"},{\"attributes\":{\"overlay\":{\"id\":\"d3e3955e-1c99-4ca1-9634-aad467ea3771\",\"type\":\"BoxAnnotation\"},\"plot\":{\"id\":\"581131b1-5dfd-41bb-bd59-a6fa2fd4cb59\",\"subtype\":\"Figure\",\"type\":\"Plot\"}},\"id\":\"ffc7cc40-fa2b-4d9f-b081-88c81f81c3c2\",\"type\":\"BoxZoomTool\"},{\"attributes\":{\"data_source\":{\"id\":\"48a71ee2-3cdf-4d6f-bc1a-dc8b86b59bf6\",\"type\":\"ColumnDataSource\"},\"glyph\":{\"id\":\"a3e373dc-dc4e-4bee-b5d1-1cb72ef91901\",\"type\":\"Circle\"},\"hover_glyph\":null,\"nonselection_glyph\":{\"id\":\"5c03658d-e26f-45c7-a2c1-284101c25ffc\",\"type\":\"Circle\"},\"selection_glyph\":null},\"id\":\"5739b395-36da-4fb0-8605-e7a1ac3a6e88\",\"type\":\"GlyphRenderer\"},{\"attributes\":{\"callback\":null},\"id\":\"8331b5d5-6bf7-4e0c-be25-24e35a41bcc9\",\"type\":\"DataRange1d\"},{\"attributes\":{\"fill_color\":{\"value\":\"#1f77b4\"},\"line_color\":{\"value\":\"orange\"},\"x\":{\"field\":\"x\"},\"y\":{\"field\":\"y\"}},\"id\":\"a3e373dc-dc4e-4bee-b5d1-1cb72ef91901\",\"type\":\"Circle\"},{\"attributes\":{\"plot\":{\"id\":\"581131b1-5dfd-41bb-bd59-a6fa2fd4cb59\",\"subtype\":\"Figure\",\"type\":\"Plot\"}},\"id\":\"6e27ac9b-d5e6-4f5e-a132-459e5652445e\",\"type\":\"ResetTool\"},{\"attributes\":{\"plot\":{\"id\":\"581131b1-5dfd-41bb-bd59-a6fa2fd4cb59\",\"subtype\":\"Figure\",\"type\":\"Plot\"}},\"id\":\"f07bf372-3d17-4d51-87d2-c984e8caa2c4\",\"type\":\"ResizeTool\"},{\"attributes\":{\"plot\":{\"id\":\"581131b1-5dfd-41bb-bd59-a6fa2fd4cb59\",\"subtype\":\"Figure\",\"type\":\"Plot\"},\"ticker\":{\"id\":\"81198b66-aace-4c54-a1d6-419df4616699\",\"type\":\"BasicTicker\"}},\"id\":\"8ec17cb8-2b46-4f07-8a03-7de6ff51967a\",\"type\":\"Grid\"},{\"attributes\":{\"plot\":{\"id\":\"581131b1-5dfd-41bb-bd59-a6fa2fd4cb59\",\"subtype\":\"Figure\",\"type\":\"Plot\"}},\"id\":\"58bdef42-2928-40ad-92fd-402a2ac86fa2\",\"type\":\"WheelZoomTool\"},{\"attributes\":{},\"id\":\"ede6e63f-2d31-4e35-8df1-e58c4a5755e7\",\"type\":\"BasicTickFormatter\"},{\"attributes\":{},\"id\":\"81198b66-aace-4c54-a1d6-419df4616699\",\"type\":\"BasicTicker\"},{\"attributes\":{\"callback\":null,\"column_names\":[\"y\",\"x\"],\"data\":{\"x\":[-3.141592653589793,-3.1179716561943813,-3.094350658798969,-3.0707296614035573,-3.047108664008145,-3.0234876666127333,-2.9998666692173215,-2.9762456718219092,-2.9526246744264975,-2.929003677031085,-2.9053826796356734,-2.881761682240261,-2.8581406848448494,-2.834519687449437,-2.8108986900540254,-2.7872776926586136,-2.7636566952632013,-2.7400356978677896,-2.7164147004723773,-2.6927937030769655,-2.6691727056815537,-2.6455517082861415,-2.6219307108907297,-2.5983097134953175,-2.5746887160999057,-2.551067718704494,-2.5274467213090817,-2.5038257239136694,-2.4802047265182576,-2.456583729122846,-2.4329627317274336,-2.409341734332022,-2.3857207369366096,-2.362099739541198,-2.338478742145786,-2.3148577447503738,-2.291236747354962,-2.2676157499595497,-2.243994752564138,-2.220373755168726,-2.196752757773314,-2.173131760377902,-2.14951076298249,-2.125889765587078,-2.1022687681916663,-2.078647770796254,-2.055026773400842,-2.03140577600543,-2.0077847786100183,-1.9841637812146062,-1.9605427838191942,-1.9369217864237822,-1.9133007890283702,-1.8896797916329582,-1.8660587942375462,-1.8424377968421344,-1.8188167994467224,-1.7951958020513104,-1.7715748046558983,-1.7479538072604863,-1.7243328098650743,-1.7007118124696625,-1.6770908150742505,-1.6534698176788385,-1.6298488202834265,-1.6062278228880145,-1.5826068254926025,-1.5589858280971904,-1.5353648307017786,-1.5117438333063666,-1.4881228359109546,-1.4645018385155426,-1.4408808411201306,-1.4172598437247186,-1.3936388463293068,-1.3700178489338948,-1.3463968515384828,-1.3227758541430708,-1.2991548567476587,-1.2755338593522467,-1.2519128619568347,-1.228291864561423,-1.204670867166011,-1.181049869770599,-1.1574288723751869,-1.1338078749797749,-1.110186877584363,-1.0865658801889508,-1.062944882793539,-1.0393238853981268,-1.015702888002715,-0.9920818906073032,-0.968460893211891,-0.9448398958164792,-0.921218898421067,-0.8975979010256552,-0.8739769036302434,-0.8503559062348311,-0.8267349088394194,-0.8031139114440071,-0.7794929140485953,-0.7558719166531831,-0.7322509192577713,-0.7086299218623595,-0.6850089244669473,-0.6613879270715355,-0.6377669296761233,-0.6141459322807115,-0.5905249348852992,-0.5669039374898874,-0.5432829400944756,-0.5196619426990634,-0.4960409453036516,-0.4724199479082394,-0.4487989505128276,-0.42517795311741535,-0.40155695572200356,-0.37793595832659177,-0.35431496093117953,-0.33069396353576774,-0.3070729661403555,-0.2834519687449437,-0.2598309713495319,-0.2362099739541197,-0.2125889765587079,-0.18896797916329566,-0.16534698176788387,-0.14172598437247164,-0.11810498697705984,-0.09448398958164805,-0.07086299218623582,-0.04724199479082403,-0.02362099739541179,0.0,0.023620997395412235,0.04724199479082403,0.07086299218623582,0.09448398958164805,0.11810498697705984,0.14172598437247208,0.16534698176788387,0.18896797916329566,0.2125889765587079,0.2362099739541197,0.2598309713495319,0.2834519687449437,0.30707296614035595,0.33069396353576774,0.35431496093117953,0.37793595832659177,0.40155695572200356,0.4251779531174158,0.4487989505128276,0.4724199479082398,0.4960409453036516,0.5196619426990634,0.5432829400944756,0.5669039374898874,0.5905249348852997,0.6141459322807115,0.6377669296761237,0.6613879270715355,0.6850089244669473,0.7086299218623595,0.7322509192577713,0.7558719166531835,0.7794929140485953,0.8031139114440071,0.8267349088394194,0.8503559062348311,0.8739769036302434,0.8975979010256552,0.921218898421067,0.9448398958164788,0.9684608932118914,0.9920818906073032,1.015702888002715,1.0393238853981268,1.0629448827935395,1.0865658801889513,1.110186877584363,1.1338078749797749,1.1574288723751867,1.1810498697705993,1.2046708671660111,1.228291864561423,1.2519128619568347,1.2755338593522465,1.2991548567476592,1.322775854143071,1.3463968515384828,1.3700178489338946,1.3936388463293063,1.417259843724719,1.4408808411201308,1.4645018385155426,1.4881228359109544,1.511743833306367,1.5353648307017789,1.5589858280971907,1.5826068254926025,1.6062278228880142,1.629848820283427,1.6534698176788387,1.6770908150742505,1.7007118124696623,1.724332809865074,1.7479538072604868,1.7715748046558986,1.7951958020513104,1.8188167994467221,1.8424377968421348,1.8660587942375466,1.8896797916329584,1.9133007890283702,1.936921786423782,1.9605427838191947,1.9841637812146065,2.0077847786100183,2.03140577600543,2.055026773400842,2.0786477707962545,2.1022687681916663,2.125889765587078,2.14951076298249,2.1731317603779017,2.1967527577733144,2.220373755168726,2.243994752564138,2.2676157499595497,2.2912367473549624,2.314857744750374,2.338478742145786,2.362099739541198,2.3857207369366096,2.4093417343320223,2.432962731727434,2.456583729122846,2.4802047265182576,2.5038257239136694,2.527446721309082,2.551067718704494,2.5746887160999057,2.5983097134953175,2.6219307108907293,2.645551708286142,2.6691727056815537,2.6927937030769655,2.7164147004723773,2.74003569786779,2.763656695263202,2.7872776926586136,2.8108986900540254,2.834519687449437,2.85814068484485,2.8817616822402616,2.9053826796356734,2.929003677031085,2.952624674426497,2.9762456718219097,2.9998666692173215,3.0234876666127333,3.047108664008145,3.070729661403557,3.0943506587989695,3.1179716561943813,3.141592653589793,3.165213650985205,3.1888346483806176,3.2124556457760294,3.236076643171441,3.259697640566853,3.2833186379622648,3.3069396353576774,3.3305606327530892,3.354181630148501,3.377802627543913,3.4014236249393246,3.4250446223347373,3.448665619730149,3.472286617125561,3.4959076145209727,3.5195286119163844,3.543149609311797,3.566770606707209,3.5903916041026207,3.6140126014980325,3.637633598893445,3.661254596288857,3.6848755936842688,3.7084965910796805,3.7321175884750923,3.755738585870505,3.779359583265917,3.8029805806613286,3.8266015780567404,3.850222575452152,3.873843572847565,3.8974645702429767,3.9210855676383884,3.9447065650338002,3.968327562429212,3.9919485598246247,4.0155695572200365,4.039190554615448,4.06281155201086,4.086432549406273,4.1100535468016846,4.133674544197096,4.157295541592508,4.18091653898792,4.204537536383333,4.228158533778744,4.251779531174156,4.275400528569568,4.29902152596498,4.3226425233603925,4.346263520755804,4.369884518151216,4.393505515546628,4.4171265129420405,4.440747510337452,4.464368507732864,4.487989505128276,4.511610502523688,4.5352314999191,4.558852497314512,4.582473494709924,4.606094492105336,4.6297154895007475,4.65333648689616,4.676957484291572,4.700578481686984,4.724199479082396,4.747820476477807,4.77144147387322,4.795062471268632,4.818683468664044,4.842304466059455,4.865925463454868,4.88954646085028,4.913167458245692,4.9367884556411035,4.960409453036515,4.984030450431927,5.007651447827339,5.031272445222751,5.054893442618164,5.078514440013576,5.102135437408988,5.1257564348044,5.149377432199811,5.172998429595223,5.196619426990635,5.220240424386047,5.2438614217814585,5.267482419176872,5.291103416572284,5.314724413967696,5.3383454113631075,5.361966408758519,5.385587406153931,5.409208403549343,5.432829400944755,5.456450398340166,5.480071395735578,5.503692393130992,5.527313390526404,5.550934387921815,5.574555385317227,5.598176382712639,5.621797380108051,5.6454183775034625,5.669039374898874,5.692660372294286,5.7162813696897,5.7399023670851115,5.763523364480523,5.787144361875935,5.810765359271347,5.834386356666759,5.85800735406217,5.881628351457582,5.905249348852994,5.928870346248406,5.952491343643819,5.976112341039231,5.999733338434643,6.023354335830055,6.0469753332254665,6.070596330620878,6.09421732801629,6.117838325411702,6.141459322807114,6.165080320202527,6.188701317597939,6.212322314993351,6.235943312388763,6.259564309784174,6.283185307179586],\"y\":[-1.2246467991473532e-16,-0.023618800894797794,-0.04722442425650354,-0.07080369990410686,-0.09434347235666257,-0.11783060817306658,-0.14125200327954165,-0.16459459028073403,-0.18784534575034612,-0.21099129749724227,-0.23401953180296242,-0.2569172006266194,-0.27967152877314616,-0.30226982102090705,-0.3246994692046836,-0.3469479592500951,-0.36900287815551935,-0.39085192091762283,-0.4124828973966395,-0.43388373911755823,-0.4550425060034365,-0.4759473930370737,-0.4965867368473307,-0.5169490222164258,-0.537022888504566,-0.5567971359883417,-0.5762607321093368,-0.5954028176294752,-0.6142127126896679,-0.6326799227683805,-0.6507941445367939,-0.6685452716072944,-0.6859234001720884,-0.7029188345287868,-0.719522092489888,-0.7357239106731317,-0.7515152496697763,-0.7668872990879175,-0.7818314824680299,-0.7963394620679941,-0.8104031435149365,-0.8240146803212852,-0.8371664782625287,-0.8498511996142253,-0.8620617672459094,-0.8737913685696028,-0.8850334593407311,-0.8957817673093257,-0.906030295719473,-0.9157733266550574,-0.9250054242299326,-0.9337214376207419,-0.9419165039406941,-0.9495860509526931,-0.9567257996203048,-0.9633317664951416,-0.9694002659393304,-0.9749279121818236,-0.9799116212074077,-0.9843486124773544,-0.9882364104807537,-0.9915728461156655,-0.9943560578993167,-0.9965844930066698,-0.9982569081367842,-0.9993723702064851,-0.9999302568709548,-0.9999302568709548,-0.9993723702064851,-0.9982569081367842,-0.9965844930066698,-0.9943560578993167,-0.9915728461156655,-0.9882364104807536,-0.9843486124773543,-0.9799116212074077,-0.9749279121818236,-0.9694002659393304,-0.9633317664951416,-0.9567257996203047,-0.949586050952693,-0.9419165039406941,-0.9337214376207418,-0.9250054242299326,-0.9157733266550574,-0.906030295719473,-0.8957817673093256,-0.8850334593407309,-0.8737913685696027,-0.8620617672459093,-0.8498511996142253,-0.8371664782625287,-0.8240146803212852,-0.8104031435149364,-0.796339462067994,-0.7818314824680298,-0.7668872990879175,-0.7515152496697762,-0.7357239106731317,-0.7195220924898879,-0.7029188345287867,-0.685923400172088,-0.6685452716072944,-0.6507941445367937,-0.6326799227683804,-0.6142127126896678,-0.5954028176294748,-0.5762607321093367,-0.5567971359883416,-0.5370228885045659,-0.5169490222164257,-0.49658673684733057,-0.47594739303707356,-0.4550425060034364,-0.4338837391175581,-0.412482897396639,-0.3908519209176227,-0.36900287815551924,-0.346947959250095,-0.3246994692046835,-0.30226982102090655,-0.279671528773146,-0.25691720062661927,-0.2340195318029623,-0.21099129749724216,-0.187845345750346,-0.16459459028073392,-0.14125200327954154,-0.11783060817306645,-0.09434347235666245,-0.07080369990410673,-0.04722442425650342,-0.02361880089479767,0.0,0.023618800894798113,0.04722442425650342,0.07080369990410673,0.09434347235666245,0.11783060817306645,0.141252003279542,0.16459459028073392,0.187845345750346,0.21099129749724216,0.2340195318029623,0.25691720062661927,0.279671528773146,0.30226982102090694,0.3246994692046835,0.346947959250095,0.36900287815551924,0.3908519209176227,0.4124828973966394,0.4338837391175581,0.4550425060034368,0.47594739303707356,0.49658673684733057,0.5169490222164257,0.5370228885045659,0.556797135988342,0.5762607321093367,0.5954028176294751,0.6142127126896678,0.6326799227683804,0.6507941445367937,0.6685452716072944,0.6859234001720883,0.7029188345287867,0.7195220924898879,0.7357239106731317,0.7515152496697762,0.7668872990879175,0.7818314824680298,0.796339462067994,0.8104031435149361,0.8240146803212854,0.8371664782625287,0.8498511996142253,0.8620617672459093,0.8737913685696029,0.885033459340731,0.8957817673093256,0.906030295719473,0.9157733266550573,0.9250054242299327,0.9337214376207419,0.9419165039406941,0.949586050952693,0.9567257996203046,0.9633317664951417,0.9694002659393305,0.9749279121818236,0.9799116212074077,0.9843486124773543,0.9882364104807537,0.9915728461156655,0.9943560578993167,0.9965844930066698,0.9982569081367842,0.9993723702064851,0.9999302568709548,0.9999302568709548,0.9993723702064851,0.9982569081367841,0.9965844930066698,0.9943560578993167,0.9915728461156655,0.9882364104807537,0.9843486124773543,0.9799116212074077,0.9749279121818236,0.9694002659393305,0.9633317664951415,0.9567257996203047,0.9495860509526931,0.9419165039406941,0.9337214376207419,0.9250054242299324,0.9157733266550574,0.906030295719473,0.8957817673093257,0.8850334593407311,0.8737913685696026,0.8620617672459094,0.8498511996142253,0.8371664782625287,0.8240146803212854,0.8104031435149363,0.7963394620679941,0.7818314824680299,0.7668872990879175,0.751515249669776,0.7357239106731315,0.719522092489888,0.7029188345287868,0.6859234001720884,0.668545271607294,0.6507941445367935,0.6326799227683805,0.6142127126896679,0.5954028176294752,0.5762607321093365,0.5567971359883417,0.537022888504566,0.5169490222164258,0.49658673684733107,0.4759473930370733,0.4550425060034365,0.43388373911755823,0.4124828973966395,0.39085192091762244,0.3690028781555189,0.3469479592500951,0.3246994692046836,0.30226982102090705,0.2796715287731457,0.256917200626619,0.23401953180296242,0.21099129749724227,0.18784534575034656,0.1645945902807336,0.14125200327954165,0.11783060817306658,0.09434347235666257,0.0708036999041073,0.0472244242565031,0.023618800894797794,1.2246467991473532e-16,-0.023618800894797547,-0.04722442425650374,-0.07080369990410705,-0.09434347235666232,-0.11783060817306633,-0.1412520032795414,-0.16459459028073423,-0.1878453457503463,-0.21099129749724205,-0.23401953180296217,-0.25691720062661877,-0.2796715287731463,-0.3022698210209068,-0.3246994692046834,-0.34694795925009486,-0.3690028781555187,-0.39085192091762305,-0.4124828973966393,-0.433883739117558,-0.4550425060034363,-0.4759473930370739,-0.49658673684733085,-0.5169490222164256,-0.5370228885045658,-0.5567971359883415,-0.5762607321093369,-0.595402817629475,-0.6142127126896678,-0.6326799227683803,-0.6507941445367933,-0.6685452716072946,-0.6859234001720882,-0.7029188345287866,-0.7195220924898877,-0.7357239106731313,-0.7515152496697765,-0.7668872990879174,-0.7818314824680297,-0.796339462067994,-0.8104031435149366,-0.8240146803212853,-0.8371664782625285,-0.8498511996142252,-0.8620617672459093,-0.8737913685696029,-0.885033459340731,-0.8957817673093256,-0.9060302957194729,-0.9157733266550573,-0.9250054242299327,-0.9337214376207418,-0.941916503940694,-0.949586050952693,-0.9567257996203048,-0.9633317664951416,-0.9694002659393304,-0.9749279121818236,-0.9799116212074076,-0.9843486124773544,-0.9882364104807537,-0.9915728461156655,-0.9943560578993167,-0.9965844930066698,-0.9982569081367842,-0.9993723702064851,-0.9999302568709548,-0.9999302568709548,-0.9993723702064851,-0.9982569081367841,-0.9965844930066698,-0.9943560578993167,-0.9915728461156655,-0.9882364104807536,-0.9843486124773543,-0.9799116212074077,-0.9749279121818236,-0.9694002659393305,-0.9633317664951417,-0.9567257996203049,-0.9495860509526933,-0.9419165039406939,-0.9337214376207417,-0.9250054242299325,-0.9157733266550574,-0.9060302957194731,-0.8957817673093257,-0.8850334593407311,-0.873791368569603,-0.86206176724591,-0.849851199614225,-0.8371664782625283,-0.824014680321285,-0.8104031435149363,-0.7963394620679942,-0.7818314824680299,-0.7668872990879176,-0.7515152496697767,-0.7357239106731321,-0.7195220924898887,-0.7029188345287862,-0.6859234001720879,-0.6685452716072942,-0.6507941445367936,-0.6326799227683806,-0.614212712689668,-0.5954028176294753,-0.5762607321093373,-0.5567971359883426,-0.5370228885045654,-0.5169490222164251,-0.4965867368473304,-0.4759473930370734,-0.4550425060034366,-0.43388373911755834,-0.4124828973966396,-0.3908519209176234,-0.36900287815551985,-0.346947959250096,-0.3246994692046829,-0.3022698210209063,-0.2796715287731458,-0.2569172006266191,-0.23401953180296253,-0.2109912974972424,-0.18784534575034667,-0.1645945902807346,-0.14125200327954265,-0.11783060817306582,-0.09434347235666181,-0.07080369990410654,-0.04722442425650322,-0.023618800894797915,-2.4492935982947064e-16]}},\"id\":\"48a71ee2-3cdf-4d6f-bc1a-dc8b86b59bf6\",\"type\":\"ColumnDataSource\"},{\"attributes\":{\"fill_alpha\":{\"value\":0.1},\"fill_color\":{\"value\":\"#1f77b4\"},\"line_alpha\":{\"value\":0.1},\"line_color\":{\"value\":\"#1f77b4\"},\"x\":{\"field\":\"x\"},\"y\":{\"field\":\"y\"}},\"id\":\"5c03658d-e26f-45c7-a2c1-284101c25ffc\",\"type\":\"Circle\"},{\"attributes\":{\"dimension\":1,\"plot\":{\"id\":\"581131b1-5dfd-41bb-bd59-a6fa2fd4cb59\",\"subtype\":\"Figure\",\"type\":\"Plot\"},\"ticker\":{\"id\":\"78891a2e-8dfb-4940-8db1-d45d07aeb0ee\",\"type\":\"BasicTicker\"}},\"id\":\"b820aa8a-a072-477c-954c-24083d6392e6\",\"type\":\"Grid\"},{\"attributes\":{},\"id\":\"d83f450a-e1f0-4d2d-af17-049d076f3430\",\"type\":\"BasicTickFormatter\"},{\"attributes\":{\"legends\":[[\"sin(x)\",[{\"id\":\"5739b395-36da-4fb0-8605-e7a1ac3a6e88\",\"type\":\"GlyphRenderer\"}]]],\"plot\":{\"id\":\"581131b1-5dfd-41bb-bd59-a6fa2fd4cb59\",\"subtype\":\"Figure\",\"type\":\"Plot\"}},\"id\":\"f5bd8f97-b2bc-461a-8774-59ce613316d3\",\"type\":\"Legend\"},{\"attributes\":{\"callback\":null},\"id\":\"73e87c51-76c2-475b-9651-3c3506f1bcff\",\"type\":\"DataRange1d\"}],\"root_ids\":[\"581131b1-5dfd-41bb-bd59-a6fa2fd4cb59\"]},\"title\":\"Bokeh Application\",\"version\":\"0.11.1\"}};\n",
       "            var render_items = [{\"docid\":\"cc89032a-7667-45fe-85ce-77c56f64f929\",\"elementid\":\"b50b8f5a-7d2a-47b4-ba93-d0fcc0c6adbc\",\"modelid\":\"581131b1-5dfd-41bb-bd59-a6fa2fd4cb59\",\"notebook_comms_target\":\"41de2810-35a5-459d-b41c-7e7fde7e1b07\"}];\n",
       "            \n",
       "            Bokeh.embed.embed_items(docs_json, render_items);\n",
       "        });\n",
       "      },\n",
       "      function(Bokeh) {\n",
       "      }\n",
       "    ];\n",
       "  \n",
       "    function run_inline_js() {\n",
       "      for (var i = 0; i < inline_js.length; i++) {\n",
       "        inline_js[i](window.Bokeh);\n",
       "      }\n",
       "    }\n",
       "  \n",
       "    if (window._bokeh_is_loading === 0) {\n",
       "      console.log(\"Bokeh: BokehJS loaded, going straight to plotting\");\n",
       "      run_inline_js();\n",
       "    } else {\n",
       "      load_libs(js_urls, function() {\n",
       "        console.log(\"Bokeh: BokehJS plotting callback run at\", now());\n",
       "        run_inline_js();\n",
       "      });\n",
       "    }\n",
       "  }(this));\n",
       "</script>"
      ]
     },
     "metadata": {},
     "output_type": "display_data"
    },
    {
     "data": {
      "text/html": [
       "<p><code>&lt;Bokeh Notebook handle for <strong>In[3]</strong>&gt;</code></p>"
      ],
      "text/plain": [
       "<bokeh.io._CommsHandle at 0x1dc01437160>"
      ]
     },
     "execution_count": 3,
     "metadata": {},
     "output_type": "execute_result"
    }
   ],
   "source": [
    "import numpy as np \n",
    "from bokeh.plotting import  show, figure \n",
    "from bokeh.io import output_notebook\n",
    "\n",
    "x = np.linspace(-1.0*np.pi, 2*np.pi, 400) \n",
    "#print(x)\n",
    "y1 = np.sin(x) \n",
    "#y2 =np.exp(x)\n",
    "\n",
    "output_notebook() \n",
    "\n",
    "p = figure() \n",
    "p.circle(x, y1, legend=\"sin(x)\",line_color=\"orange\") \n",
    "#p.circle(x, y2, legend=\"exp(x)\",line_color=\"orange\") \n",
    "\n",
    "\n",
    "\n",
    "\n",
    "show(p) \n"
   ]
  },
  {
   "cell_type": "code",
   "execution_count": null,
   "metadata": {
    "collapsed": false
   },
   "outputs": [],
   "source": [
    "\n",
    "\n"
   ]
  },
  {
   "cell_type": "code",
   "execution_count": null,
   "metadata": {
    "collapsed": false
   },
   "outputs": [],
   "source": [
    "\n",
    "\n"
   ]
  },
  {
   "cell_type": "code",
   "execution_count": 4,
   "metadata": {
    "collapsed": false
   },
   "outputs": [
    {
     "data": {
      "text/plain": [
       "1.0"
      ]
     },
     "execution_count": 4,
     "metadata": {},
     "output_type": "execute_result"
    }
   ],
   "source": [
    "import math\n",
    "math.sin(math.pi/2)\n"
   ]
  },
  {
   "cell_type": "code",
   "execution_count": 5,
   "metadata": {
    "collapsed": false
   },
   "outputs": [
    {
     "data": {
      "text/html": [
       "\n",
       "    <div class=\"bk-banner\">\n",
       "        <a href=\"http://bokeh.pydata.org\" target=\"_blank\" class=\"bk-logo bk-logo-small bk-logo-notebook\"></a>\n",
       "        <span id=\"2e267e80-1744-48e8-b16a-daa5a90db9ce\">Loading BokehJS ...</span>\n",
       "    </div>"
      ]
     },
     "metadata": {},
     "output_type": "display_data"
    },
    {
     "data": {
      "application/javascript": [
       "\n",
       "(function(global) {\n",
       "  function now() {\n",
       "    return new Date();\n",
       "  }\n",
       "\n",
       "  if (typeof (window._bokeh_onload_callbacks) === \"undefined\") {\n",
       "    window._bokeh_onload_callbacks = [];\n",
       "  }\n",
       "\n",
       "  function run_callbacks() {\n",
       "    window._bokeh_onload_callbacks.forEach(function(callback) { callback() });\n",
       "    delete window._bokeh_onload_callbacks\n",
       "    console.info(\"Bokeh: all callbacks have finished\");\n",
       "  }\n",
       "\n",
       "  function load_libs(js_urls, callback) {\n",
       "    window._bokeh_onload_callbacks.push(callback);\n",
       "    if (window._bokeh_is_loading > 0) {\n",
       "      console.log(\"Bokeh: BokehJS is being loaded, scheduling callback at\", now());\n",
       "      return null;\n",
       "    }\n",
       "    if (js_urls == null || js_urls.length === 0) {\n",
       "      run_callbacks();\n",
       "      return null;\n",
       "    }\n",
       "    console.log(\"Bokeh: BokehJS not loaded, scheduling load and callback at\", now());\n",
       "    window._bokeh_is_loading = js_urls.length;\n",
       "    for (var i = 0; i < js_urls.length; i++) {\n",
       "      var url = js_urls[i];\n",
       "      var s = document.createElement('script');\n",
       "      s.src = url;\n",
       "      s.async = false;\n",
       "      s.onreadystatechange = s.onload = function() {\n",
       "        window._bokeh_is_loading--;\n",
       "        if (window._bokeh_is_loading === 0) {\n",
       "          console.log(\"Bokeh: all BokehJS libraries loaded\");\n",
       "          run_callbacks()\n",
       "        }\n",
       "      };\n",
       "      s.onerror = function() {\n",
       "        console.warn(\"failed to load library \" + url);\n",
       "      };\n",
       "      console.log(\"Bokeh: injecting script tag for BokehJS library: \", url);\n",
       "      document.getElementsByTagName(\"head\")[0].appendChild(s);\n",
       "    }\n",
       "  };\n",
       "\n",
       "  var js_urls = ['https://cdn.pydata.org/bokeh/release/bokeh-0.11.1.min.js', 'https://cdn.pydata.org/bokeh/release/bokeh-widgets-0.11.1.min.js', 'https://cdn.pydata.org/bokeh/release/bokeh-compiler-0.11.1.min.js'];\n",
       "\n",
       "  var inline_js = [\n",
       "    function(Bokeh) {\n",
       "      Bokeh.set_log_level(\"info\");\n",
       "    },\n",
       "    \n",
       "    function(Bokeh) {\n",
       "      Bokeh.$(\"#2e267e80-1744-48e8-b16a-daa5a90db9ce\").text(\"BokehJS successfully loaded\");\n",
       "    },\n",
       "    function(Bokeh) {\n",
       "      console.log(\"Bokeh: injecting CSS: https://cdn.pydata.org/bokeh/release/bokeh-0.11.1.min.css\");\n",
       "      Bokeh.embed.inject_css(\"https://cdn.pydata.org/bokeh/release/bokeh-0.11.1.min.css\");\n",
       "      console.log(\"Bokeh: injecting CSS: https://cdn.pydata.org/bokeh/release/bokeh-widgets-0.11.1.min.css\");\n",
       "      Bokeh.embed.inject_css(\"https://cdn.pydata.org/bokeh/release/bokeh-widgets-0.11.1.min.css\");\n",
       "    }\n",
       "  ];\n",
       "\n",
       "  function run_inline_js() {\n",
       "    for (var i = 0; i < inline_js.length; i++) {\n",
       "      inline_js[i](window.Bokeh);\n",
       "    }\n",
       "  }\n",
       "\n",
       "  if (window._bokeh_is_loading === 0) {\n",
       "    console.log(\"Bokeh: BokehJS loaded, going straight to plotting\");\n",
       "    run_inline_js();\n",
       "  } else {\n",
       "    load_libs(js_urls, function() {\n",
       "      console.log(\"Bokeh: BokehJS plotting callback run at\", now());\n",
       "      run_inline_js();\n",
       "    });\n",
       "  }\n",
       "}(this));"
      ]
     },
     "metadata": {},
     "output_type": "display_data"
    },
    {
     "data": {
      "text/html": [
       "\n",
       "\n",
       "    <div class=\"plotdiv\" id=\"b64afae9-0ba8-47a7-9305-2e738969db7b\"></div>\n",
       "<script type=\"text/javascript\">\n",
       "  \n",
       "  (function(global) {\n",
       "    function now() {\n",
       "      return new Date();\n",
       "    }\n",
       "  \n",
       "    if (typeof (window._bokeh_onload_callbacks) === \"undefined\") {\n",
       "      window._bokeh_onload_callbacks = [];\n",
       "    }\n",
       "  \n",
       "    function run_callbacks() {\n",
       "      window._bokeh_onload_callbacks.forEach(function(callback) { callback() });\n",
       "      delete window._bokeh_onload_callbacks\n",
       "      console.info(\"Bokeh: all callbacks have finished\");\n",
       "    }\n",
       "  \n",
       "    function load_libs(js_urls, callback) {\n",
       "      window._bokeh_onload_callbacks.push(callback);\n",
       "      if (window._bokeh_is_loading > 0) {\n",
       "        console.log(\"Bokeh: BokehJS is being loaded, scheduling callback at\", now());\n",
       "        return null;\n",
       "      }\n",
       "      if (js_urls == null || js_urls.length === 0) {\n",
       "        run_callbacks();\n",
       "        return null;\n",
       "      }\n",
       "      console.log(\"Bokeh: BokehJS not loaded, scheduling load and callback at\", now());\n",
       "      window._bokeh_is_loading = js_urls.length;\n",
       "      for (var i = 0; i < js_urls.length; i++) {\n",
       "        var url = js_urls[i];\n",
       "        var s = document.createElement('script');\n",
       "        s.src = url;\n",
       "        s.async = false;\n",
       "        s.onreadystatechange = s.onload = function() {\n",
       "          window._bokeh_is_loading--;\n",
       "          if (window._bokeh_is_loading === 0) {\n",
       "            console.log(\"Bokeh: all BokehJS libraries loaded\");\n",
       "            run_callbacks()\n",
       "          }\n",
       "        };\n",
       "        s.onerror = function() {\n",
       "          console.warn(\"failed to load library \" + url);\n",
       "        };\n",
       "        console.log(\"Bokeh: injecting script tag for BokehJS library: \", url);\n",
       "        document.getElementsByTagName(\"head\")[0].appendChild(s);\n",
       "      }\n",
       "    };var element = document.getElementById(\"b64afae9-0ba8-47a7-9305-2e738969db7b\");\n",
       "    if (element == null) {\n",
       "      console.log(\"Bokeh: ERROR: autoload.js configured with elementid 'b64afae9-0ba8-47a7-9305-2e738969db7b' but no matching script tag was found. \")\n",
       "      return false;\n",
       "    }\n",
       "  \n",
       "    var js_urls = [];\n",
       "  \n",
       "    var inline_js = [\n",
       "      function(Bokeh) {\n",
       "        Bokeh.$(function() {\n",
       "            var docs_json = {\"97f724f1-9830-43a0-aa4c-4af6b8e72e18\":{\"roots\":{\"references\":[{\"attributes\":{},\"id\":\"db027afd-e938-4b39-9ba5-f7d148cd860d\",\"type\":\"ToolEvents\"},{\"attributes\":{\"plot\":{\"id\":\"0ceac6a0-f475-4f3d-b920-db9ecec3efc5\",\"subtype\":\"Figure\",\"type\":\"Plot\"}},\"id\":\"7ded97e8-deec-4729-8195-1c44c2357a17\",\"type\":\"ResizeTool\"},{\"attributes\":{\"formatter\":{\"id\":\"d83f450a-e1f0-4d2d-af17-049d076f3430\",\"type\":\"BasicTickFormatter\"},\"plot\":{\"id\":\"581131b1-5dfd-41bb-bd59-a6fa2fd4cb59\",\"subtype\":\"Figure\",\"type\":\"Plot\"},\"ticker\":{\"id\":\"81198b66-aace-4c54-a1d6-419df4616699\",\"type\":\"BasicTicker\"}},\"id\":\"da0af73e-c45f-44f1-a73b-420aaff596a2\",\"type\":\"LinearAxis\"},{\"attributes\":{\"plot\":{\"id\":\"581131b1-5dfd-41bb-bd59-a6fa2fd4cb59\",\"subtype\":\"Figure\",\"type\":\"Plot\"}},\"id\":\"c4eab5a3-3336-4588-b271-152511fa743c\",\"type\":\"PanTool\"},{\"attributes\":{},\"id\":\"78891a2e-8dfb-4940-8db1-d45d07aeb0ee\",\"type\":\"BasicTicker\"},{\"attributes\":{\"plot\":{\"id\":\"581131b1-5dfd-41bb-bd59-a6fa2fd4cb59\",\"subtype\":\"Figure\",\"type\":\"Plot\"}},\"id\":\"d916d6ad-9d3a-4c1e-8a7b-8bf4a6d851d8\",\"type\":\"PreviewSaveTool\"},{\"attributes\":{\"bottom_units\":\"screen\",\"fill_alpha\":{\"value\":0.5},\"fill_color\":{\"value\":\"lightgrey\"},\"left_units\":\"screen\",\"level\":\"overlay\",\"line_alpha\":{\"value\":1.0},\"line_color\":{\"value\":\"black\"},\"line_dash\":[4,4],\"line_width\":{\"value\":2},\"plot\":null,\"render_mode\":\"css\",\"right_units\":\"screen\",\"top_units\":\"screen\"},\"id\":\"d3e3955e-1c99-4ca1-9634-aad467ea3771\",\"type\":\"BoxAnnotation\"},{\"attributes\":{\"plot\":{\"id\":\"581131b1-5dfd-41bb-bd59-a6fa2fd4cb59\",\"subtype\":\"Figure\",\"type\":\"Plot\"}},\"id\":\"58bdef42-2928-40ad-92fd-402a2ac86fa2\",\"type\":\"WheelZoomTool\"},{\"attributes\":{\"dimension\":1,\"plot\":{\"id\":\"0ceac6a0-f475-4f3d-b920-db9ecec3efc5\",\"subtype\":\"Figure\",\"type\":\"Plot\"},\"ticker\":{\"id\":\"82090b18-6a88-4d7c-b808-c35bf9cd6649\",\"type\":\"BasicTicker\"}},\"id\":\"7c250c99-c37a-41fe-8203-3960b8279034\",\"type\":\"Grid\"},{\"attributes\":{\"callback\":null,\"column_names\":[\"y\",\"x\"],\"data\":{\"x\":[0.0,0.06346651825433926,0.12693303650867852,0.1903995547630178,0.25386607301735703,0.3173325912716963,0.3807991095260356,0.4442656277803748,0.5077321460347141,0.5711986642890533,0.6346651825433925,0.6981317007977318,0.7615982190520711,0.8250647373064104,0.8885312555607496,0.9519977738150889,1.0154642920694281,1.0789308103237674,1.1423973285781066,1.2058638468324459,1.269330365086785,1.3327968833411243,1.3962634015954636,1.4597299198498028,1.5231964381041423,1.5866629563584815,1.6501294746128208,1.71359599286716,1.7770625111214993,1.8405290293758385,1.9039955476301778,1.967462065884517,2.0309285841388562,2.0943951023931957,2.1578616206475347,2.221328138901874,2.284794657156213,2.3482611754105527,2.4117276936648917,2.475194211919231,2.53866073017357,2.6021272484279097,2.6655937666822487,2.729060284936588,2.792526803190927,2.8559933214452666,2.9194598396996057,2.982926357953945,3.0463928762082846,3.1098593944626236,3.173325912716963,3.236792430971302,3.3002589492256416,3.3637254674799806,3.42719198573432,3.490658503988659,3.5541250222429985,3.6175915404973376,3.681058058751677,3.744524577006016,3.8079910952603555,3.8714576135146945,3.934924131769034,3.998390650023373,4.0618571682777125,4.1253236865320515,4.188790204786391,4.25225672304073,4.3157232412950695,4.3791897595494085,4.442656277803748,4.506122796058087,4.569589314312426,4.6330558325667655,4.696522350821105,4.759988869075444,4.823455387329783,4.886921905584122,4.950388423838462,5.013854942092801,5.07732146034714,5.14078797860148,5.204254496855819,5.267721015110158,5.331187533364497,5.394654051618837,5.458120569873176,5.521587088127515,5.585053606381854,5.648520124636194,5.711986642890533,5.775453161144872,5.838919679399211,5.902386197653551,5.96585271590789,6.029319234162229,6.092785752416569,6.156252270670908,6.219718788925247,6.283185307179586],\"y\":[\"NaN\",-0.04835723168768662,0.9997074834030946,-0.8578504774345762,-0.7156066274706167,-0.009675068681091057,0.4930013357028882,0.777503988957464,0.92154856380064,0.9838601508964477,0.9999882987884593,0.990437743921515,0.9669613624589536,0.9363293350689197,0.9024627434349247,0.8676334337907359,0.833145579276838,0.7997288828597785,0.7677692053939309,0.7374459577533441,0.7088150643666585,0.681859607228815,0.6565209773897078,0.632718107426976,0.6103593303765198,0.5893496342867265,0.5695950221041094,0.5510050448923063,0.5334941821906304,0.5169824980566139,0.5013958469907764,0.4866658058338962,0.4727294448302037,0.459529010441881,0.44701156614040344,0.4351286202279431,0.4238357585385608,0.413092292567503,0.402860928839074,0.39310746227574384,0.3838004943995179,0.3749111760019827,0.3664129732102431,0.3582814554846053,0.35049410389854335,0.3430301379975744,0.33587035956141753,0.32899701167017725,0.32239365157850675,0.3160450360175371,0.309937017663731,0.3040564516310327,0.29839111095436205,0.2929296101367828,0.2876613359286654,0.28257638459466383,0.2776655050034725,0.27292004694655114,0.26833191415582985,0.2638935215474395,0.25959775626936454,0.2554379421761905,0.2514078073943853,0.24750145467735127,0.24371333428128622,0.24003821912115847,0.23647118199121508,0.2330075746567719,0.229643008643892,0.22637333757123132,0.22319464088406693,0.220103208864545,0.2170955288046921,0.21416827223989546,0.21131828315052809,0.20854256704831148,0.20583828087198588,0.2032027236240078,0.200633327686401,0.1981276507596407,0.1956833683736169,0.19329826692437002,0.19097023719447456,0.18869726831871456,0.1864774421600931,0.18430892806428634,0.18218997796342415,0.18011892180258685,0.17809416326467703,0.17611417577138175,0.1741774987398059,0.17228273407605035,0.170428542888547,0.16861364240536128,0.16683680308094734,0.16509684587899837,0.16339263971909546,0.16172309907582055,0.1600871817198818,0.15848388659160487]}},\"id\":\"4aa3b7e5-4e53-46e0-ac84-21da9cb25d8e\",\"type\":\"ColumnDataSource\"},{\"attributes\":{\"plot\":{\"id\":\"0ceac6a0-f475-4f3d-b920-db9ecec3efc5\",\"subtype\":\"Figure\",\"type\":\"Plot\"}},\"id\":\"c022dcda-d59f-4d86-8426-6c4841362d73\",\"type\":\"WheelZoomTool\"},{\"attributes\":{\"formatter\":{\"id\":\"ede6e63f-2d31-4e35-8df1-e58c4a5755e7\",\"type\":\"BasicTickFormatter\"},\"plot\":{\"id\":\"581131b1-5dfd-41bb-bd59-a6fa2fd4cb59\",\"subtype\":\"Figure\",\"type\":\"Plot\"},\"ticker\":{\"id\":\"78891a2e-8dfb-4940-8db1-d45d07aeb0ee\",\"type\":\"BasicTicker\"}},\"id\":\"e857dc2b-61d7-4f8d-940e-9c713a1a21fa\",\"type\":\"LinearAxis\"},{\"attributes\":{\"plot\":{\"id\":\"0ceac6a0-f475-4f3d-b920-db9ecec3efc5\",\"subtype\":\"Figure\",\"type\":\"Plot\"}},\"id\":\"0d720e88-29b0-4228-8fb0-bf6e6bb2c6bc\",\"type\":\"PanTool\"},{\"attributes\":{},\"id\":\"638aa30e-4a4a-43b4-97d2-c331fa8dbeb6\",\"type\":\"BasicTickFormatter\"},{\"attributes\":{\"below\":[{\"id\":\"b32034f5-f519-4270-824a-b772bea58d30\",\"type\":\"LinearAxis\"}],\"left\":[{\"id\":\"1463c1b9-7e11-49ca-b501-2d2a346ba49c\",\"type\":\"LinearAxis\"}],\"renderers\":[{\"id\":\"b32034f5-f519-4270-824a-b772bea58d30\",\"type\":\"LinearAxis\"},{\"id\":\"455b1cd8-db0f-420a-897a-f40e3617965e\",\"type\":\"Grid\"},{\"id\":\"1463c1b9-7e11-49ca-b501-2d2a346ba49c\",\"type\":\"LinearAxis\"},{\"id\":\"7c250c99-c37a-41fe-8203-3960b8279034\",\"type\":\"Grid\"},{\"id\":\"84e5ddc4-220f-4de6-a5dd-88794f58c51f\",\"type\":\"BoxAnnotation\"},{\"id\":\"71feaf7b-1e04-40dc-b751-5015ced2315d\",\"type\":\"Legend\"},{\"id\":\"4975682e-96eb-43d3-9aab-9b8cae5117c5\",\"type\":\"GlyphRenderer\"}],\"tool_events\":{\"id\":\"e70ba00d-6fa1-47f7-9eb8-fedafc42b0ff\",\"type\":\"ToolEvents\"},\"tools\":[{\"id\":\"0d720e88-29b0-4228-8fb0-bf6e6bb2c6bc\",\"type\":\"PanTool\"},{\"id\":\"c022dcda-d59f-4d86-8426-6c4841362d73\",\"type\":\"WheelZoomTool\"},{\"id\":\"f77f5913-1966-4ba6-bd9b-f17e6b361c49\",\"type\":\"BoxZoomTool\"},{\"id\":\"54379678-ec26-4261-8cda-cd5c552680df\",\"type\":\"PreviewSaveTool\"},{\"id\":\"7ded97e8-deec-4729-8195-1c44c2357a17\",\"type\":\"ResizeTool\"},{\"id\":\"57c37c93-367e-4730-b1af-7162be574a06\",\"type\":\"ResetTool\"},{\"id\":\"748dc251-b5c7-4980-965f-9127e21d34b2\",\"type\":\"HelpTool\"}],\"x_range\":{\"id\":\"262e46da-f2bb-47fb-992a-1b04b7a493b4\",\"type\":\"DataRange1d\"},\"y_range\":{\"id\":\"a2bc3b0a-187d-48c3-ab04-628cdbf187f4\",\"type\":\"DataRange1d\"}},\"id\":\"0ceac6a0-f475-4f3d-b920-db9ecec3efc5\",\"subtype\":\"Figure\",\"type\":\"Plot\"},{\"attributes\":{\"plot\":{\"id\":\"581131b1-5dfd-41bb-bd59-a6fa2fd4cb59\",\"subtype\":\"Figure\",\"type\":\"Plot\"}},\"id\":\"f07bf372-3d17-4d51-87d2-c984e8caa2c4\",\"type\":\"ResizeTool\"},{\"attributes\":{},\"id\":\"e39257b3-068e-45e6-b099-d9bf69432e69\",\"type\":\"BasicTickFormatter\"},{\"attributes\":{\"plot\":{\"id\":\"581131b1-5dfd-41bb-bd59-a6fa2fd4cb59\",\"subtype\":\"Figure\",\"type\":\"Plot\"},\"ticker\":{\"id\":\"81198b66-aace-4c54-a1d6-419df4616699\",\"type\":\"BasicTicker\"}},\"id\":\"8ec17cb8-2b46-4f07-8a03-7de6ff51967a\",\"type\":\"Grid\"},{\"attributes\":{\"plot\":{\"id\":\"0ceac6a0-f475-4f3d-b920-db9ecec3efc5\",\"subtype\":\"Figure\",\"type\":\"Plot\"}},\"id\":\"57c37c93-367e-4730-b1af-7162be574a06\",\"type\":\"ResetTool\"},{\"attributes\":{},\"id\":\"ede6e63f-2d31-4e35-8df1-e58c4a5755e7\",\"type\":\"BasicTickFormatter\"},{\"attributes\":{\"plot\":{\"id\":\"0ceac6a0-f475-4f3d-b920-db9ecec3efc5\",\"subtype\":\"Figure\",\"type\":\"Plot\"}},\"id\":\"54379678-ec26-4261-8cda-cd5c552680df\",\"type\":\"PreviewSaveTool\"},{\"attributes\":{},\"id\":\"81198b66-aace-4c54-a1d6-419df4616699\",\"type\":\"BasicTicker\"},{\"attributes\":{},\"id\":\"6ada30a2-fdf3-4f3e-b1f5-35e80366bbb7\",\"type\":\"BasicTicker\"},{\"attributes\":{\"data_source\":{\"id\":\"4aa3b7e5-4e53-46e0-ac84-21da9cb25d8e\",\"type\":\"ColumnDataSource\"},\"glyph\":{\"id\":\"45c40bad-a0bc-414d-8205-adaad8cd6d2d\",\"type\":\"Line\"},\"hover_glyph\":null,\"nonselection_glyph\":{\"id\":\"1bb0b100-06b0-4d7d-8dc7-e90a4afa8505\",\"type\":\"Line\"},\"selection_glyph\":null},\"id\":\"4975682e-96eb-43d3-9aab-9b8cae5117c5\",\"type\":\"GlyphRenderer\"},{\"attributes\":{\"legends\":[[\"sin(x)\",[{\"id\":\"5739b395-36da-4fb0-8605-e7a1ac3a6e88\",\"type\":\"GlyphRenderer\"}]]],\"plot\":{\"id\":\"581131b1-5dfd-41bb-bd59-a6fa2fd4cb59\",\"subtype\":\"Figure\",\"type\":\"Plot\"}},\"id\":\"f5bd8f97-b2bc-461a-8774-59ce613316d3\",\"type\":\"Legend\"},{\"attributes\":{\"callback\":null},\"id\":\"73e87c51-76c2-475b-9651-3c3506f1bcff\",\"type\":\"DataRange1d\"},{\"attributes\":{\"overlay\":{\"id\":\"84e5ddc4-220f-4de6-a5dd-88794f58c51f\",\"type\":\"BoxAnnotation\"},\"plot\":{\"id\":\"0ceac6a0-f475-4f3d-b920-db9ecec3efc5\",\"subtype\":\"Figure\",\"type\":\"Plot\"}},\"id\":\"f77f5913-1966-4ba6-bd9b-f17e6b361c49\",\"type\":\"BoxZoomTool\"},{\"attributes\":{\"dimension\":1,\"plot\":{\"id\":\"581131b1-5dfd-41bb-bd59-a6fa2fd4cb59\",\"subtype\":\"Figure\",\"type\":\"Plot\"},\"ticker\":{\"id\":\"78891a2e-8dfb-4940-8db1-d45d07aeb0ee\",\"type\":\"BasicTicker\"}},\"id\":\"b820aa8a-a072-477c-954c-24083d6392e6\",\"type\":\"Grid\"},{\"attributes\":{\"below\":[{\"id\":\"da0af73e-c45f-44f1-a73b-420aaff596a2\",\"type\":\"LinearAxis\"}],\"left\":[{\"id\":\"e857dc2b-61d7-4f8d-940e-9c713a1a21fa\",\"type\":\"LinearAxis\"}],\"renderers\":[{\"id\":\"da0af73e-c45f-44f1-a73b-420aaff596a2\",\"type\":\"LinearAxis\"},{\"id\":\"8ec17cb8-2b46-4f07-8a03-7de6ff51967a\",\"type\":\"Grid\"},{\"id\":\"e857dc2b-61d7-4f8d-940e-9c713a1a21fa\",\"type\":\"LinearAxis\"},{\"id\":\"b820aa8a-a072-477c-954c-24083d6392e6\",\"type\":\"Grid\"},{\"id\":\"d3e3955e-1c99-4ca1-9634-aad467ea3771\",\"type\":\"BoxAnnotation\"},{\"id\":\"f5bd8f97-b2bc-461a-8774-59ce613316d3\",\"type\":\"Legend\"},{\"id\":\"5739b395-36da-4fb0-8605-e7a1ac3a6e88\",\"type\":\"GlyphRenderer\"}],\"tool_events\":{\"id\":\"db027afd-e938-4b39-9ba5-f7d148cd860d\",\"type\":\"ToolEvents\"},\"tools\":[{\"id\":\"c4eab5a3-3336-4588-b271-152511fa743c\",\"type\":\"PanTool\"},{\"id\":\"58bdef42-2928-40ad-92fd-402a2ac86fa2\",\"type\":\"WheelZoomTool\"},{\"id\":\"ffc7cc40-fa2b-4d9f-b081-88c81f81c3c2\",\"type\":\"BoxZoomTool\"},{\"id\":\"d916d6ad-9d3a-4c1e-8a7b-8bf4a6d851d8\",\"type\":\"PreviewSaveTool\"},{\"id\":\"f07bf372-3d17-4d51-87d2-c984e8caa2c4\",\"type\":\"ResizeTool\"},{\"id\":\"6e27ac9b-d5e6-4f5e-a132-459e5652445e\",\"type\":\"ResetTool\"},{\"id\":\"54b931dc-fe22-4ce1-ba33-9ba41dc59a8e\",\"type\":\"HelpTool\"}],\"x_range\":{\"id\":\"73e87c51-76c2-475b-9651-3c3506f1bcff\",\"type\":\"DataRange1d\"},\"y_range\":{\"id\":\"8331b5d5-6bf7-4e0c-be25-24e35a41bcc9\",\"type\":\"DataRange1d\"}},\"id\":\"581131b1-5dfd-41bb-bd59-a6fa2fd4cb59\",\"subtype\":\"Figure\",\"type\":\"Plot\"},{\"attributes\":{\"bottom_units\":\"screen\",\"fill_alpha\":{\"value\":0.5},\"fill_color\":{\"value\":\"lightgrey\"},\"left_units\":\"screen\",\"level\":\"overlay\",\"line_alpha\":{\"value\":1.0},\"line_color\":{\"value\":\"black\"},\"line_dash\":[4,4],\"line_width\":{\"value\":2},\"plot\":null,\"render_mode\":\"css\",\"right_units\":\"screen\",\"top_units\":\"screen\"},\"id\":\"84e5ddc4-220f-4de6-a5dd-88794f58c51f\",\"type\":\"BoxAnnotation\"},{\"attributes\":{\"formatter\":{\"id\":\"e39257b3-068e-45e6-b099-d9bf69432e69\",\"type\":\"BasicTickFormatter\"},\"plot\":{\"id\":\"0ceac6a0-f475-4f3d-b920-db9ecec3efc5\",\"subtype\":\"Figure\",\"type\":\"Plot\"},\"ticker\":{\"id\":\"6ada30a2-fdf3-4f3e-b1f5-35e80366bbb7\",\"type\":\"BasicTicker\"}},\"id\":\"b32034f5-f519-4270-824a-b772bea58d30\",\"type\":\"LinearAxis\"},{\"attributes\":{},\"id\":\"82090b18-6a88-4d7c-b808-c35bf9cd6649\",\"type\":\"BasicTicker\"},{\"attributes\":{\"plot\":{\"id\":\"581131b1-5dfd-41bb-bd59-a6fa2fd4cb59\",\"subtype\":\"Figure\",\"type\":\"Plot\"}},\"id\":\"54b931dc-fe22-4ce1-ba33-9ba41dc59a8e\",\"type\":\"HelpTool\"},{\"attributes\":{\"plot\":{\"id\":\"0ceac6a0-f475-4f3d-b920-db9ecec3efc5\",\"subtype\":\"Figure\",\"type\":\"Plot\"}},\"id\":\"748dc251-b5c7-4980-965f-9127e21d34b2\",\"type\":\"HelpTool\"},{\"attributes\":{\"callback\":null},\"id\":\"a2bc3b0a-187d-48c3-ab04-628cdbf187f4\",\"type\":\"DataRange1d\"},{\"attributes\":{\"legends\":[[\"sin(1/x)\",[{\"id\":\"4975682e-96eb-43d3-9aab-9b8cae5117c5\",\"type\":\"GlyphRenderer\"}]]],\"plot\":{\"id\":\"0ceac6a0-f475-4f3d-b920-db9ecec3efc5\",\"subtype\":\"Figure\",\"type\":\"Plot\"}},\"id\":\"71feaf7b-1e04-40dc-b751-5015ced2315d\",\"type\":\"Legend\"},{\"attributes\":{\"line_color\":{\"value\":\"#1f77b4\"},\"x\":{\"field\":\"x\"},\"y\":{\"field\":\"y\"}},\"id\":\"45c40bad-a0bc-414d-8205-adaad8cd6d2d\",\"type\":\"Line\"},{\"attributes\":{\"callback\":null},\"id\":\"8331b5d5-6bf7-4e0c-be25-24e35a41bcc9\",\"type\":\"DataRange1d\"},{\"attributes\":{\"overlay\":{\"id\":\"d3e3955e-1c99-4ca1-9634-aad467ea3771\",\"type\":\"BoxAnnotation\"},\"plot\":{\"id\":\"581131b1-5dfd-41bb-bd59-a6fa2fd4cb59\",\"subtype\":\"Figure\",\"type\":\"Plot\"}},\"id\":\"ffc7cc40-fa2b-4d9f-b081-88c81f81c3c2\",\"type\":\"BoxZoomTool\"},{\"attributes\":{\"data_source\":{\"id\":\"48a71ee2-3cdf-4d6f-bc1a-dc8b86b59bf6\",\"type\":\"ColumnDataSource\"},\"glyph\":{\"id\":\"a3e373dc-dc4e-4bee-b5d1-1cb72ef91901\",\"type\":\"Circle\"},\"hover_glyph\":null,\"nonselection_glyph\":{\"id\":\"5c03658d-e26f-45c7-a2c1-284101c25ffc\",\"type\":\"Circle\"},\"selection_glyph\":null},\"id\":\"5739b395-36da-4fb0-8605-e7a1ac3a6e88\",\"type\":\"GlyphRenderer\"},{\"attributes\":{\"callback\":null},\"id\":\"262e46da-f2bb-47fb-992a-1b04b7a493b4\",\"type\":\"DataRange1d\"},{\"attributes\":{\"fill_color\":{\"value\":\"#1f77b4\"},\"line_color\":{\"value\":\"orange\"},\"x\":{\"field\":\"x\"},\"y\":{\"field\":\"y\"}},\"id\":\"a3e373dc-dc4e-4bee-b5d1-1cb72ef91901\",\"type\":\"Circle\"},{\"attributes\":{},\"id\":\"e70ba00d-6fa1-47f7-9eb8-fedafc42b0ff\",\"type\":\"ToolEvents\"},{\"attributes\":{\"callback\":null,\"column_names\":[\"y\",\"x\"],\"data\":{\"x\":[-3.141592653589793,-3.1179716561943813,-3.094350658798969,-3.0707296614035573,-3.047108664008145,-3.0234876666127333,-2.9998666692173215,-2.9762456718219092,-2.9526246744264975,-2.929003677031085,-2.9053826796356734,-2.881761682240261,-2.8581406848448494,-2.834519687449437,-2.8108986900540254,-2.7872776926586136,-2.7636566952632013,-2.7400356978677896,-2.7164147004723773,-2.6927937030769655,-2.6691727056815537,-2.6455517082861415,-2.6219307108907297,-2.5983097134953175,-2.5746887160999057,-2.551067718704494,-2.5274467213090817,-2.5038257239136694,-2.4802047265182576,-2.456583729122846,-2.4329627317274336,-2.409341734332022,-2.3857207369366096,-2.362099739541198,-2.338478742145786,-2.3148577447503738,-2.291236747354962,-2.2676157499595497,-2.243994752564138,-2.220373755168726,-2.196752757773314,-2.173131760377902,-2.14951076298249,-2.125889765587078,-2.1022687681916663,-2.078647770796254,-2.055026773400842,-2.03140577600543,-2.0077847786100183,-1.9841637812146062,-1.9605427838191942,-1.9369217864237822,-1.9133007890283702,-1.8896797916329582,-1.8660587942375462,-1.8424377968421344,-1.8188167994467224,-1.7951958020513104,-1.7715748046558983,-1.7479538072604863,-1.7243328098650743,-1.7007118124696625,-1.6770908150742505,-1.6534698176788385,-1.6298488202834265,-1.6062278228880145,-1.5826068254926025,-1.5589858280971904,-1.5353648307017786,-1.5117438333063666,-1.4881228359109546,-1.4645018385155426,-1.4408808411201306,-1.4172598437247186,-1.3936388463293068,-1.3700178489338948,-1.3463968515384828,-1.3227758541430708,-1.2991548567476587,-1.2755338593522467,-1.2519128619568347,-1.228291864561423,-1.204670867166011,-1.181049869770599,-1.1574288723751869,-1.1338078749797749,-1.110186877584363,-1.0865658801889508,-1.062944882793539,-1.0393238853981268,-1.015702888002715,-0.9920818906073032,-0.968460893211891,-0.9448398958164792,-0.921218898421067,-0.8975979010256552,-0.8739769036302434,-0.8503559062348311,-0.8267349088394194,-0.8031139114440071,-0.7794929140485953,-0.7558719166531831,-0.7322509192577713,-0.7086299218623595,-0.6850089244669473,-0.6613879270715355,-0.6377669296761233,-0.6141459322807115,-0.5905249348852992,-0.5669039374898874,-0.5432829400944756,-0.5196619426990634,-0.4960409453036516,-0.4724199479082394,-0.4487989505128276,-0.42517795311741535,-0.40155695572200356,-0.37793595832659177,-0.35431496093117953,-0.33069396353576774,-0.3070729661403555,-0.2834519687449437,-0.2598309713495319,-0.2362099739541197,-0.2125889765587079,-0.18896797916329566,-0.16534698176788387,-0.14172598437247164,-0.11810498697705984,-0.09448398958164805,-0.07086299218623582,-0.04724199479082403,-0.02362099739541179,0.0,0.023620997395412235,0.04724199479082403,0.07086299218623582,0.09448398958164805,0.11810498697705984,0.14172598437247208,0.16534698176788387,0.18896797916329566,0.2125889765587079,0.2362099739541197,0.2598309713495319,0.2834519687449437,0.30707296614035595,0.33069396353576774,0.35431496093117953,0.37793595832659177,0.40155695572200356,0.4251779531174158,0.4487989505128276,0.4724199479082398,0.4960409453036516,0.5196619426990634,0.5432829400944756,0.5669039374898874,0.5905249348852997,0.6141459322807115,0.6377669296761237,0.6613879270715355,0.6850089244669473,0.7086299218623595,0.7322509192577713,0.7558719166531835,0.7794929140485953,0.8031139114440071,0.8267349088394194,0.8503559062348311,0.8739769036302434,0.8975979010256552,0.921218898421067,0.9448398958164788,0.9684608932118914,0.9920818906073032,1.015702888002715,1.0393238853981268,1.0629448827935395,1.0865658801889513,1.110186877584363,1.1338078749797749,1.1574288723751867,1.1810498697705993,1.2046708671660111,1.228291864561423,1.2519128619568347,1.2755338593522465,1.2991548567476592,1.322775854143071,1.3463968515384828,1.3700178489338946,1.3936388463293063,1.417259843724719,1.4408808411201308,1.4645018385155426,1.4881228359109544,1.511743833306367,1.5353648307017789,1.5589858280971907,1.5826068254926025,1.6062278228880142,1.629848820283427,1.6534698176788387,1.6770908150742505,1.7007118124696623,1.724332809865074,1.7479538072604868,1.7715748046558986,1.7951958020513104,1.8188167994467221,1.8424377968421348,1.8660587942375466,1.8896797916329584,1.9133007890283702,1.936921786423782,1.9605427838191947,1.9841637812146065,2.0077847786100183,2.03140577600543,2.055026773400842,2.0786477707962545,2.1022687681916663,2.125889765587078,2.14951076298249,2.1731317603779017,2.1967527577733144,2.220373755168726,2.243994752564138,2.2676157499595497,2.2912367473549624,2.314857744750374,2.338478742145786,2.362099739541198,2.3857207369366096,2.4093417343320223,2.432962731727434,2.456583729122846,2.4802047265182576,2.5038257239136694,2.527446721309082,2.551067718704494,2.5746887160999057,2.5983097134953175,2.6219307108907293,2.645551708286142,2.6691727056815537,2.6927937030769655,2.7164147004723773,2.74003569786779,2.763656695263202,2.7872776926586136,2.8108986900540254,2.834519687449437,2.85814068484485,2.8817616822402616,2.9053826796356734,2.929003677031085,2.952624674426497,2.9762456718219097,2.9998666692173215,3.0234876666127333,3.047108664008145,3.070729661403557,3.0943506587989695,3.1179716561943813,3.141592653589793,3.165213650985205,3.1888346483806176,3.2124556457760294,3.236076643171441,3.259697640566853,3.2833186379622648,3.3069396353576774,3.3305606327530892,3.354181630148501,3.377802627543913,3.4014236249393246,3.4250446223347373,3.448665619730149,3.472286617125561,3.4959076145209727,3.5195286119163844,3.543149609311797,3.566770606707209,3.5903916041026207,3.6140126014980325,3.637633598893445,3.661254596288857,3.6848755936842688,3.7084965910796805,3.7321175884750923,3.755738585870505,3.779359583265917,3.8029805806613286,3.8266015780567404,3.850222575452152,3.873843572847565,3.8974645702429767,3.9210855676383884,3.9447065650338002,3.968327562429212,3.9919485598246247,4.0155695572200365,4.039190554615448,4.06281155201086,4.086432549406273,4.1100535468016846,4.133674544197096,4.157295541592508,4.18091653898792,4.204537536383333,4.228158533778744,4.251779531174156,4.275400528569568,4.29902152596498,4.3226425233603925,4.346263520755804,4.369884518151216,4.393505515546628,4.4171265129420405,4.440747510337452,4.464368507732864,4.487989505128276,4.511610502523688,4.5352314999191,4.558852497314512,4.582473494709924,4.606094492105336,4.6297154895007475,4.65333648689616,4.676957484291572,4.700578481686984,4.724199479082396,4.747820476477807,4.77144147387322,4.795062471268632,4.818683468664044,4.842304466059455,4.865925463454868,4.88954646085028,4.913167458245692,4.9367884556411035,4.960409453036515,4.984030450431927,5.007651447827339,5.031272445222751,5.054893442618164,5.078514440013576,5.102135437408988,5.1257564348044,5.149377432199811,5.172998429595223,5.196619426990635,5.220240424386047,5.2438614217814585,5.267482419176872,5.291103416572284,5.314724413967696,5.3383454113631075,5.361966408758519,5.385587406153931,5.409208403549343,5.432829400944755,5.456450398340166,5.480071395735578,5.503692393130992,5.527313390526404,5.550934387921815,5.574555385317227,5.598176382712639,5.621797380108051,5.6454183775034625,5.669039374898874,5.692660372294286,5.7162813696897,5.7399023670851115,5.763523364480523,5.787144361875935,5.810765359271347,5.834386356666759,5.85800735406217,5.881628351457582,5.905249348852994,5.928870346248406,5.952491343643819,5.976112341039231,5.999733338434643,6.023354335830055,6.0469753332254665,6.070596330620878,6.09421732801629,6.117838325411702,6.141459322807114,6.165080320202527,6.188701317597939,6.212322314993351,6.235943312388763,6.259564309784174,6.283185307179586],\"y\":[-1.2246467991473532e-16,-0.023618800894797794,-0.04722442425650354,-0.07080369990410686,-0.09434347235666257,-0.11783060817306658,-0.14125200327954165,-0.16459459028073403,-0.18784534575034612,-0.21099129749724227,-0.23401953180296242,-0.2569172006266194,-0.27967152877314616,-0.30226982102090705,-0.3246994692046836,-0.3469479592500951,-0.36900287815551935,-0.39085192091762283,-0.4124828973966395,-0.43388373911755823,-0.4550425060034365,-0.4759473930370737,-0.4965867368473307,-0.5169490222164258,-0.537022888504566,-0.5567971359883417,-0.5762607321093368,-0.5954028176294752,-0.6142127126896679,-0.6326799227683805,-0.6507941445367939,-0.6685452716072944,-0.6859234001720884,-0.7029188345287868,-0.719522092489888,-0.7357239106731317,-0.7515152496697763,-0.7668872990879175,-0.7818314824680299,-0.7963394620679941,-0.8104031435149365,-0.8240146803212852,-0.8371664782625287,-0.8498511996142253,-0.8620617672459094,-0.8737913685696028,-0.8850334593407311,-0.8957817673093257,-0.906030295719473,-0.9157733266550574,-0.9250054242299326,-0.9337214376207419,-0.9419165039406941,-0.9495860509526931,-0.9567257996203048,-0.9633317664951416,-0.9694002659393304,-0.9749279121818236,-0.9799116212074077,-0.9843486124773544,-0.9882364104807537,-0.9915728461156655,-0.9943560578993167,-0.9965844930066698,-0.9982569081367842,-0.9993723702064851,-0.9999302568709548,-0.9999302568709548,-0.9993723702064851,-0.9982569081367842,-0.9965844930066698,-0.9943560578993167,-0.9915728461156655,-0.9882364104807536,-0.9843486124773543,-0.9799116212074077,-0.9749279121818236,-0.9694002659393304,-0.9633317664951416,-0.9567257996203047,-0.949586050952693,-0.9419165039406941,-0.9337214376207418,-0.9250054242299326,-0.9157733266550574,-0.906030295719473,-0.8957817673093256,-0.8850334593407309,-0.8737913685696027,-0.8620617672459093,-0.8498511996142253,-0.8371664782625287,-0.8240146803212852,-0.8104031435149364,-0.796339462067994,-0.7818314824680298,-0.7668872990879175,-0.7515152496697762,-0.7357239106731317,-0.7195220924898879,-0.7029188345287867,-0.685923400172088,-0.6685452716072944,-0.6507941445367937,-0.6326799227683804,-0.6142127126896678,-0.5954028176294748,-0.5762607321093367,-0.5567971359883416,-0.5370228885045659,-0.5169490222164257,-0.49658673684733057,-0.47594739303707356,-0.4550425060034364,-0.4338837391175581,-0.412482897396639,-0.3908519209176227,-0.36900287815551924,-0.346947959250095,-0.3246994692046835,-0.30226982102090655,-0.279671528773146,-0.25691720062661927,-0.2340195318029623,-0.21099129749724216,-0.187845345750346,-0.16459459028073392,-0.14125200327954154,-0.11783060817306645,-0.09434347235666245,-0.07080369990410673,-0.04722442425650342,-0.02361880089479767,0.0,0.023618800894798113,0.04722442425650342,0.07080369990410673,0.09434347235666245,0.11783060817306645,0.141252003279542,0.16459459028073392,0.187845345750346,0.21099129749724216,0.2340195318029623,0.25691720062661927,0.279671528773146,0.30226982102090694,0.3246994692046835,0.346947959250095,0.36900287815551924,0.3908519209176227,0.4124828973966394,0.4338837391175581,0.4550425060034368,0.47594739303707356,0.49658673684733057,0.5169490222164257,0.5370228885045659,0.556797135988342,0.5762607321093367,0.5954028176294751,0.6142127126896678,0.6326799227683804,0.6507941445367937,0.6685452716072944,0.6859234001720883,0.7029188345287867,0.7195220924898879,0.7357239106731317,0.7515152496697762,0.7668872990879175,0.7818314824680298,0.796339462067994,0.8104031435149361,0.8240146803212854,0.8371664782625287,0.8498511996142253,0.8620617672459093,0.8737913685696029,0.885033459340731,0.8957817673093256,0.906030295719473,0.9157733266550573,0.9250054242299327,0.9337214376207419,0.9419165039406941,0.949586050952693,0.9567257996203046,0.9633317664951417,0.9694002659393305,0.9749279121818236,0.9799116212074077,0.9843486124773543,0.9882364104807537,0.9915728461156655,0.9943560578993167,0.9965844930066698,0.9982569081367842,0.9993723702064851,0.9999302568709548,0.9999302568709548,0.9993723702064851,0.9982569081367841,0.9965844930066698,0.9943560578993167,0.9915728461156655,0.9882364104807537,0.9843486124773543,0.9799116212074077,0.9749279121818236,0.9694002659393305,0.9633317664951415,0.9567257996203047,0.9495860509526931,0.9419165039406941,0.9337214376207419,0.9250054242299324,0.9157733266550574,0.906030295719473,0.8957817673093257,0.8850334593407311,0.8737913685696026,0.8620617672459094,0.8498511996142253,0.8371664782625287,0.8240146803212854,0.8104031435149363,0.7963394620679941,0.7818314824680299,0.7668872990879175,0.751515249669776,0.7357239106731315,0.719522092489888,0.7029188345287868,0.6859234001720884,0.668545271607294,0.6507941445367935,0.6326799227683805,0.6142127126896679,0.5954028176294752,0.5762607321093365,0.5567971359883417,0.537022888504566,0.5169490222164258,0.49658673684733107,0.4759473930370733,0.4550425060034365,0.43388373911755823,0.4124828973966395,0.39085192091762244,0.3690028781555189,0.3469479592500951,0.3246994692046836,0.30226982102090705,0.2796715287731457,0.256917200626619,0.23401953180296242,0.21099129749724227,0.18784534575034656,0.1645945902807336,0.14125200327954165,0.11783060817306658,0.09434347235666257,0.0708036999041073,0.0472244242565031,0.023618800894797794,1.2246467991473532e-16,-0.023618800894797547,-0.04722442425650374,-0.07080369990410705,-0.09434347235666232,-0.11783060817306633,-0.1412520032795414,-0.16459459028073423,-0.1878453457503463,-0.21099129749724205,-0.23401953180296217,-0.25691720062661877,-0.2796715287731463,-0.3022698210209068,-0.3246994692046834,-0.34694795925009486,-0.3690028781555187,-0.39085192091762305,-0.4124828973966393,-0.433883739117558,-0.4550425060034363,-0.4759473930370739,-0.49658673684733085,-0.5169490222164256,-0.5370228885045658,-0.5567971359883415,-0.5762607321093369,-0.595402817629475,-0.6142127126896678,-0.6326799227683803,-0.6507941445367933,-0.6685452716072946,-0.6859234001720882,-0.7029188345287866,-0.7195220924898877,-0.7357239106731313,-0.7515152496697765,-0.7668872990879174,-0.7818314824680297,-0.796339462067994,-0.8104031435149366,-0.8240146803212853,-0.8371664782625285,-0.8498511996142252,-0.8620617672459093,-0.8737913685696029,-0.885033459340731,-0.8957817673093256,-0.9060302957194729,-0.9157733266550573,-0.9250054242299327,-0.9337214376207418,-0.941916503940694,-0.949586050952693,-0.9567257996203048,-0.9633317664951416,-0.9694002659393304,-0.9749279121818236,-0.9799116212074076,-0.9843486124773544,-0.9882364104807537,-0.9915728461156655,-0.9943560578993167,-0.9965844930066698,-0.9982569081367842,-0.9993723702064851,-0.9999302568709548,-0.9999302568709548,-0.9993723702064851,-0.9982569081367841,-0.9965844930066698,-0.9943560578993167,-0.9915728461156655,-0.9882364104807536,-0.9843486124773543,-0.9799116212074077,-0.9749279121818236,-0.9694002659393305,-0.9633317664951417,-0.9567257996203049,-0.9495860509526933,-0.9419165039406939,-0.9337214376207417,-0.9250054242299325,-0.9157733266550574,-0.9060302957194731,-0.8957817673093257,-0.8850334593407311,-0.873791368569603,-0.86206176724591,-0.849851199614225,-0.8371664782625283,-0.824014680321285,-0.8104031435149363,-0.7963394620679942,-0.7818314824680299,-0.7668872990879176,-0.7515152496697767,-0.7357239106731321,-0.7195220924898887,-0.7029188345287862,-0.6859234001720879,-0.6685452716072942,-0.6507941445367936,-0.6326799227683806,-0.614212712689668,-0.5954028176294753,-0.5762607321093373,-0.5567971359883426,-0.5370228885045654,-0.5169490222164251,-0.4965867368473304,-0.4759473930370734,-0.4550425060034366,-0.43388373911755834,-0.4124828973966396,-0.3908519209176234,-0.36900287815551985,-0.346947959250096,-0.3246994692046829,-0.3022698210209063,-0.2796715287731458,-0.2569172006266191,-0.23401953180296253,-0.2109912974972424,-0.18784534575034667,-0.1645945902807346,-0.14125200327954265,-0.11783060817306582,-0.09434347235666181,-0.07080369990410654,-0.04722442425650322,-0.023618800894797915,-2.4492935982947064e-16]}},\"id\":\"48a71ee2-3cdf-4d6f-bc1a-dc8b86b59bf6\",\"type\":\"ColumnDataSource\"},{\"attributes\":{\"fill_alpha\":{\"value\":0.1},\"fill_color\":{\"value\":\"#1f77b4\"},\"line_alpha\":{\"value\":0.1},\"line_color\":{\"value\":\"#1f77b4\"},\"x\":{\"field\":\"x\"},\"y\":{\"field\":\"y\"}},\"id\":\"5c03658d-e26f-45c7-a2c1-284101c25ffc\",\"type\":\"Circle\"},{\"attributes\":{\"formatter\":{\"id\":\"638aa30e-4a4a-43b4-97d2-c331fa8dbeb6\",\"type\":\"BasicTickFormatter\"},\"plot\":{\"id\":\"0ceac6a0-f475-4f3d-b920-db9ecec3efc5\",\"subtype\":\"Figure\",\"type\":\"Plot\"},\"ticker\":{\"id\":\"82090b18-6a88-4d7c-b808-c35bf9cd6649\",\"type\":\"BasicTicker\"}},\"id\":\"1463c1b9-7e11-49ca-b501-2d2a346ba49c\",\"type\":\"LinearAxis\"},{\"attributes\":{\"plot\":{\"id\":\"581131b1-5dfd-41bb-bd59-a6fa2fd4cb59\",\"subtype\":\"Figure\",\"type\":\"Plot\"}},\"id\":\"6e27ac9b-d5e6-4f5e-a132-459e5652445e\",\"type\":\"ResetTool\"},{\"attributes\":{},\"id\":\"d83f450a-e1f0-4d2d-af17-049d076f3430\",\"type\":\"BasicTickFormatter\"},{\"attributes\":{\"plot\":{\"id\":\"0ceac6a0-f475-4f3d-b920-db9ecec3efc5\",\"subtype\":\"Figure\",\"type\":\"Plot\"},\"ticker\":{\"id\":\"6ada30a2-fdf3-4f3e-b1f5-35e80366bbb7\",\"type\":\"BasicTicker\"}},\"id\":\"455b1cd8-db0f-420a-897a-f40e3617965e\",\"type\":\"Grid\"},{\"attributes\":{\"line_alpha\":{\"value\":0.1},\"line_color\":{\"value\":\"#1f77b4\"},\"x\":{\"field\":\"x\"},\"y\":{\"field\":\"y\"}},\"id\":\"1bb0b100-06b0-4d7d-8dc7-e90a4afa8505\",\"type\":\"Line\"}],\"root_ids\":[\"581131b1-5dfd-41bb-bd59-a6fa2fd4cb59\",\"0ceac6a0-f475-4f3d-b920-db9ecec3efc5\"]},\"title\":\"Bokeh Application\",\"version\":\"0.11.1\"}};\n",
       "            var render_items = [{\"docid\":\"97f724f1-9830-43a0-aa4c-4af6b8e72e18\",\"elementid\":\"b64afae9-0ba8-47a7-9305-2e738969db7b\",\"modelid\":\"0ceac6a0-f475-4f3d-b920-db9ecec3efc5\",\"notebook_comms_target\":\"43795690-9ec5-4ac7-ab4c-2884dcb6b42b\"}];\n",
       "            \n",
       "            Bokeh.embed.embed_items(docs_json, render_items);\n",
       "        });\n",
       "      },\n",
       "      function(Bokeh) {\n",
       "      }\n",
       "    ];\n",
       "  \n",
       "    function run_inline_js() {\n",
       "      for (var i = 0; i < inline_js.length; i++) {\n",
       "        inline_js[i](window.Bokeh);\n",
       "      }\n",
       "    }\n",
       "  \n",
       "    if (window._bokeh_is_loading === 0) {\n",
       "      console.log(\"Bokeh: BokehJS loaded, going straight to plotting\");\n",
       "      run_inline_js();\n",
       "    } else {\n",
       "      load_libs(js_urls, function() {\n",
       "        console.log(\"Bokeh: BokehJS plotting callback run at\", now());\n",
       "        run_inline_js();\n",
       "      });\n",
       "    }\n",
       "  }(this));\n",
       "</script>"
      ]
     },
     "metadata": {},
     "output_type": "display_data"
    },
    {
     "data": {
      "text/html": [
       "<p><code>&lt;Bokeh Notebook handle for <strong>In[5]</strong>&gt;</code></p>"
      ],
      "text/plain": [
       "<bokeh.io._CommsHandle at 0x1dc0144b4e0>"
      ]
     },
     "execution_count": 5,
     "metadata": {},
     "output_type": "execute_result"
    }
   ],
   "source": [
    "#from numpy import pi,linspace,sin\n",
    "#from matplotlib.pyplot import plot\n",
    "#x = linspace(0,3*pi,500)\n",
    "#print(x)\n",
    "#plot(x,sin(x**2))\n",
    "#title('A simple chirp');\n",
    "# OneNote Python 101 - Worked Exampes - bokeh multi line, multi axis \n",
    "\n",
    "\n",
    "import numpy as np \n",
    "from bokeh.plotting import  show, figure \n",
    "from bokeh.io import output_notebook\n",
    "\n",
    "x = np.linspace(0, 2*np.pi, 100) \n",
    "#print(x)\n",
    "y = np.sin(1/x) \n",
    "\n",
    "output_notebook() \n",
    "\n",
    "p = figure() \n",
    " \n",
    "p.line(x, y, legend=\"sin(1/x)\") \n",
    "\n",
    "\n",
    "\n",
    "show(p) \n",
    "\n",
    "\n",
    "\n",
    "\n"
   ]
  }
 ],
 "metadata": {
  "kernelspec": {
   "display_name": "Python 3",
   "language": "python",
   "name": "python3"
  },
  "language_info": {
   "codemirror_mode": {
    "name": "ipython",
    "version": 3
   },
   "file_extension": ".py",
   "mimetype": "text/x-python",
   "name": "python",
   "nbconvert_exporter": "python",
   "pygments_lexer": "ipython3",
   "version": "3.5.1"
  }
 },
 "nbformat": 4,
 "nbformat_minor": 0
}
